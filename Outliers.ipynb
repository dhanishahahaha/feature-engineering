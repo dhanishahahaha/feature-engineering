{
  "nbformat": 4,
  "nbformat_minor": 0,
  "metadata": {
    "colab": {
      "provenance": []
    },
    "kernelspec": {
      "name": "python3",
      "display_name": "Python 3"
    },
    "language_info": {
      "name": "python"
    }
  },
  "cells": [
    {
      "cell_type": "markdown",
      "source": [
        "# **Outliers**"
      ],
      "metadata": {
        "id": "q4HTcI8yj9IH"
      }
    },
    {
      "cell_type": "markdown",
      "source": [
        "An outlier is an individual point of data that is distant from other points in the dataset. It is an anomaly in the dataset that may be caused by a range of errors in capturing, processing or manipulating data."
      ],
      "metadata": {
        "id": "K7ly5WF9kYxR"
      }
    },
    {
      "cell_type": "markdown",
      "source": [
        "How to interpret weather the Outliers are dangerous for our data or not?\n",
        "When to remove the outliers? \n",
        "\n",
        "example: If theres a age column in the data and we have a value as 300, then its totally irrelevent.\n"
      ],
      "metadata": {
        "id": "9PYhctpxkZE7"
      }
    },
    {
      "cell_type": "markdown",
      "source": [
        "## Effect of Outliers on ML Algorithms:"
      ],
      "metadata": {
        "id": "EZbrc5jbk63i"
      }
    },
    {
      "cell_type": "markdown",
      "source": [
        "Outliers have a Negative impact on a  certain set of ML Algorithms:\n",
        "\n",
        "*   Linear Regression\n",
        "*   Logistic Regression\n",
        "\n",
        "*   Adaboost\n",
        "*   Deep Learning\n",
        "\n",
        "Algorithms which are not much affected by Ouliers:\n",
        "\n",
        "\n",
        "*   Tree Based\n",
        "\n",
        "*   Non Weight basee\n",
        "\n",
        "\n",
        "\n",
        "\n"
      ],
      "metadata": {
        "id": "DHEGCeCCk7M3"
      }
    },
    {
      "cell_type": "markdown",
      "source": [
        "# How to treat Outliers?"
      ],
      "metadata": {
        "id": "hCiwTxBsnnhD"
      }
    },
    {
      "cell_type": "markdown",
      "source": [
        "\n",
        "\n",
        "1.  **Trimming:** To remove the outlier values from the data..\n",
        "\n",
        " \n",
        "\n",
        "*   A problem with this approach is that the data becomes **Thin** and an advantage is that it is a very fast technique.\n",
        "\n",
        "2. **Capping:** An outlier is usually on either very low side or very high size, so can set a limit on the data on both the sides and everything beyond that limit is considered to be an outlier.\n",
        "\n",
        "3. **Treating outlier as Missing Value:** Consider the outlier as NaN and treat it as a missing value.\n",
        "\n",
        "4. **Discretization:** This method helps us to create ranges and so the outliers gets merged in the range.\n",
        "\n",
        "\n",
        "\n",
        "\n"
      ],
      "metadata": {
        "id": "fo9iO_wEnxQs"
      }
    },
    {
      "cell_type": "markdown",
      "source": [
        "# Using different Distributions to detect Outliers:"
      ],
      "metadata": {
        "id": "0nrmuUm0nxox"
      }
    },
    {
      "cell_type": "markdown",
      "source": [
        "1. **Normal Distribution:** \n",
        "\n",
        "\n",
        " ![image.png](data:image/png;base64,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)\n",
        "\n",
        " The mean is represented as 'µ' (mu) so for the condition:\n",
        "\n",
        " (µ-3σ)>outlier>(µ+3σ)  then the value can be considered as an outlier.\n",
        "\n",
        " This is strictly applicable when the data is normally distributed."
      ],
      "metadata": {
        "id": "YS3sXMRmnx_9"
      }
    },
    {
      "cell_type": "markdown",
      "source": [
        "2. **Skewed Distribution:**\n",
        "\n",
        "\n",
        "![image.png](data:image/png;base64,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)\n",
        "\n",
        "Min = Q1 - 1.5(IQR)\n",
        "\n",
        "Max = Q3 + 1.5(IQR)\n",
        "\n",
        "where IQR is the Interquartile Range\n",
        "\n",
        "Any value outside these min and max ranges can be treated as Outliers."
      ],
      "metadata": {
        "id": "F--mPUCPsLxK"
      }
    },
    {
      "cell_type": "markdown",
      "source": [
        "3. **Other Distributions:**\n",
        "\n",
        "\n",
        "![image.png](data:image/png;base64,iVBORw0KGgoAAAANSUhEUgAAAOsAAADWCAIAAAC/jOLxAAAYLklEQVR4nO2dbVAb553A/yAtLOZFCIFkEC8yGGwL/AI2xfiFOG8eO2NfbpprnUkzvRnnbtrh5mbu5qbtfWg+3KTXzPTcL75rzp3puL1e4qudMM2cm0B8sSlqjIxxQCAwMo6xkJFkCcEahCWB9LD34XGJjEHobbXa3ef3gZHEo92/2B+7f/2fl81gWRYIBMGSyXcABEJCEIMJwoYYTBA2xGCCsCEGE4QNMZggbIjBBGFDDCYIG2IwQdgQgwnCRr5hi4sXLnzz6NHQ8nIKookVFqFHy8tlWi3fgazG7/f99rf/7XCAXr/H4bi3vOw8ffq0UqmMaSMOu53rj+aw2wszMzNksjje+9Dj2VxcnPSQVpGjVkdusLHBgUePAIBFKDkRJRWEUCgU4juK1dis1p+d+dVbb/2zQpHHspCR0RIIoDNn/v1b32rbs6cp+u2EgkHuglwBIRSPvwCQHlYIO4uQxXXy4BSb1Xr2Py796Ec/yc3NC4UAIQiFQC6Xff/7//D55+Mm0wDfAYoNYRuchvzszK/a23/o969+3e+Hb37z9fff/5xhGD7iEi3E4GTy9ttvt7f/y3p5TSgE7e0/fOedf0ttUCKHGJw0DAZDQ8MJmo6U2LAsvPDCmx0dHSmLSvQQg5PGpUtXmptbIn+xRAh279Ybjff8fl+q4hI5xODk8Otf//rNN/8xmvkufj+cPv1P7733n9wHJQmIwUnA7/dNTfnUalWUxSWalmVmljrsdo7jkgTE4CTwv7//+OWXX49+wmEoBEeO/MX//O53XAYlFYjBSaB/YEqrjfYEjFEo8ubn80hlLXGIwYnS0dFx8uR3lpZie1coBKdO/c2lS5e4CUpCEIMTZXh4oqJCG0f3Kk3L3O4QKUokCDE4IUymAb2+Lb4lN1gWGhuf7+kxJDsoaUEMToirV7t37twX3/gWhECv1/f09CU7KGlBDI4fv9/HstrInXAbotc/b7NakxWSBCEGx8+nn3YeOvRyIqM7QyHYu/dg52efJS8oyUEMjp/h4YmSElWCG8Hf55ISjzQhBseJw27XaHZkZCS6HZaFurp9ZNxw3BCD4+SzK1daW48kPkEEIWhsbLl6tTsZQUkRYnCcjI+7FYq8pGxKLgefjyaF4fggBseDxWLR61uTtfIyLgz3999KzuYkBjE4Hnp6evbuPZisaY4IQXX1tv7+/uRsTmIQg+PB7Q4lWAZeBU3LfD46iRuUDsTgmLFZrTrdzuRuEycSRuP15G5WChCDY+Zqd3dDQ1Nyl6lACOrq9L29N5K5UWlADI6ZJFYhwsEViaRvVvQQg2PDYbdXVNRzsWXStREfxODYMN640dTUysVKVwhBXV19Xx+pSMQGMTg27t61FxUlOhZiPRSKPIdjnqONixVicAz4/T6/P1u+8WqJ8aPR7CBzmGOCGBwDJtNgc/Nh7m6CGgpBU1Or8QapSMQAMTgGentv6PV6TlccVatVt26NcLgD0UEMjoHUVLvU6loyyid6iMHRYrFYdLqdXN9HnWWhtnaPyTTI7W5EBDE4WoYGBmpr67letByP8hkeJolEtBCDo+W+zZP4nKJooGmZ1fooBTsSB8TgaPH7sxOfUxQlFRX1ZEGqKCEGR4XReJ3TOlo4uKZ27do1OUWlYn8ChxgcFb29N3bs4LaOFo5arTKZTCnamcAhBkeFz0enLIXAFBXtmPd6U7pLYUIM3hiH3a5SVaVyjywLZWU1VrKWTxQQgzdm2Gyur29MTRKMQQiqqrambn9Chhi8MZOTk6Wl8ayvmgglJSrvzGJKdylMiMEbc/fuHKfj0dYkIwPuPZhM9V4FCDF4A2xW6+7d+1OZQmBYFhp3tpC5nxtCDN4AY29vQ0NT6u+AjRAUb9aQuZ8bQgzeAJP5LhfzOqOEzP3cEGJwJPx+n1pdy2MAKlUV6V6ODDE4EpOTtrKymtQnwSvU1zeazWbedi8EiMGRGBoYqKramvokeIWSks1jY2O87V4IEIMjcd/mUatTMaJyPfLzZWbzAx4DSH+IwZHw+7P5DSAYBL1+P0mFI0AMXheTaUCv38NjEgwALAv19Y19feSOXetCDF6Xvr7+uO8VlywQgvJy7ejoKJ9BpDfE4HVhmMXs7GQuEhwfGRmwuEiGuq8LMXht/H5fdnZxiscEr0dhYTVZyGc9iMFrc+eOhd9K8Ao4FR4mVeF1IAavzZ3blro6zufWRwNCUFqqnZwk49TWhhi8NvwOh1iFXA5k/v16EIPXRqXaxncIT1FRUU9S4TUhBq+ByTSwffuudEiCMXj+PUmF14QYvAZ9ff3V1dvSIQleoahIRarCa0IMXoM0qQSHQ+4Tsx7E4NX4/b5gUJYmleBwyFjhNSEGr+bOHUtd3b70SYIxZIDEehCDV5M+leBwcFWYpMLPQgxeTVpVgsORy8Hj4eA2YAKHGLwafifGRYZUhZ+FGPwUJtNAmgyHeBaWJVXhNSAGP8Xg4FAaJsEYhKCgoJCkwqsgBj+Fy+UtKEjHJBhD0zJSFV4FMfhr8C0707ASHA6pCq+CGPw1k5M23ifGRYZlobKymlSFwyEGf83QwEDaJsEYhKCuTk9S4XCIwV+TtpXgcEhVeBXE4CfwvkRa9JCqcDjE4Cekz8S4yOABEl/du8d3IOkCMfgJ6VwJDgchspjaUxCDn+ByeXNz0z0JxtC0zO0mqfATiMFP8PuzU3+zjLghVeEViMEAABaLJc0rweHgqjBZVxhDDAYQQiU4HIRAr9f39/fzHUhaQAwGEEgleBVkgAQmCQZTFIUQQghRMd6LPdb2HCGgSnA4KlVVyqrC8wsLcRzf1JAEg42Dgw89nocej3FwEK1/Jca/QghdNRpdDENRVJfBEKF9yhBKJTiclC2mNr+wMHj7tj8YdLjdN4eG1mu2chznFxYud3evvJHr8CBxgy93d9fpdFqNRqvRNO7Y8anBsGaz+YWFhx4PRVE0TRcpFKGlJQBo2L5dJuN/UrtQKsHh4Kow14upIYR6+vu/sXu3RqmsrqwsVioHb99+9kxMUZTD7cYSq5TKTTSNEMrNyamprOQ0PExCBs8vLACASqnET2maxi+6GOaB00lR1AOn0+5y4T+Ec3p6yu1eee8MwywFAvjaZHe5HjideGsPnE78doTQ/MIC/hWnp+o0HxO8HjQt43QxNYqihu/cKddo8NNgMFimVo989VUwGMTHCAAGb9+eX1iYYZjeoSGH242PIADIZLKHHs+c14ufPnA6HzidAICPpt3lcjEMQij8uMdNQgbPeb2b6Ke+T2yi6TmvV6NUmiwWAFDk51smJmiaLtdoSktKNEplMBjELVVK5bjVCgATNtvy8nJ1ZWW/2QwAmZmZIxZLFk0/9vv7zWZdeTl+nEickUn/McHrUVFRz2lVeHZurjjskOELJkIoMzPzgd2eQ1FoeXnO61UplcUKRZlaXZCXhxsjhDYXF5ssFoqirhqNZWp1mVp91WjcXFzcOzSUn5u7FAgMjo1pNZoytdr7+HEiQSZksCI/3zM3F/6KLxDICnM6Nydnw41g161TU0UKBUJInpVVpFCUq9UqpbJIoXj/8mWH01mQx9U5Mh1ulhEfKVhBQpGf72GYlbQBXwllMll+bi5+RZa5rj8ymQyf3RzT0575+YceT5FCIZPJihUKlVJZXVlZWlJysavrjzdvbi4uTiTIhAwuyMvblJ098+cPGQgEfIuLmj8nFQCw6tzpWuuEUVpSkkXTuvLyXdueWi4yEAiUlZa+efIkANhdrkTijEA63CwjPhCCigrt9etc3To8GAw27tgxbrPh0ypOKhq2bg3Pg9HycmaYxHaXC/82/OtNVlaWRqnUlZeHp8V4m2+ePNm8c+fg2FgiVY5EO1JfaWsbHBsrffwYAJzT03/18ssAQFFUaUnJlNu9FAj4AoEZhqmprBy3WjUqFUJodm4OAPJzc32BgMPt3tfQcGtkJLS0tLy8XFFa6nA6Z+fmZhimIC9vxGIBgGKlMsF/0wg4HPM0LQsJdpRBVtZm7jYuk8mOtLTcGhmp0GqXAgEAaNTrg8EgvrTiNNc5Pa3VaIoUCofbnUXTMwzjCwTwGQcf+uOHDg3evq1WqQDA+/ixLxCYcrvL1Wrn9DQALC8vV2i1K4lKHGSwG11B/+u999749rcj7IOiqBmGAQBVWM5EUVQgEFiz1ID/4YLBIEVRK//f4Y1XXgcAhFDkeoVncbFSp4v8EdaDYZjf/Kbz1VffSE+DvV5rfn6kjyaXQ1fXH0680hD3X8Bht+ez7IYVofmFhdycHJqmw4/vlNsdfr1dOVLhh/XZ4xj+YjRsKi2N3CAJ9eBgMFiQl7eSxa+8uN7fJRgM4pYr7Vc1Dt8Op+U2i+V2ba0gk2AMXle4/8svud5RQV6eTCZbdXxXtVk5UuGHNcJvk4Wke5UtlnGttlKISfAKRUWqu3clPV9D0gaPj7sFNxxiFXI5eDwBvqPgE+ka7Pf7VKoqvqNIFJaF3bv326xWvgPhDeka3NNjaG4+LNwkGIMQ7N178Gp3N9+B8IZ0DR4dHa2o0Ao6CcbQtGx83MZ3FLwhXYPFNL5Wra71+318R8EPEjXYYbeLIAnGsCzU1u65c8fCdyD8IFGDjTdu1Nc3Cj0JxiAEWm3l4OC6g3fFjUQNvnvXXloqhiQYo1DkjY+7N24nRiRqsMcTENDc+mhQqaqkmQpL0WCTaaC5+TlxpBAYloXm5sM9PWtPkBE3UjS4r6+/sbFFNCkEcD/SMp2RosEzM4siSyEwnI60TFskZzDDMFlZar6jSD4sCzrdTgl2L0vO4L6+PhF0Jj8LQlBbW2/s7eU7kFQjOYMnJydLSjaLKQleQa1Wmcx3+Y4i1UjO4Lt352ia/0UqOEKl2ia1mpq0DLZYLLt37xdfCoHBNbX+/lt8B5JSpGVwT0/P3r0HRZlCAABCUFqqldqaltIyeGZmMTtbtCkEAMjlohpzFw0SMhjX0QS6PE+USLCmJiGDxVpHC0eCNTUJGWwyjZeXi2c82npIraYmIYOFu8JfrFRU7JXOfWKkYrDReF30KQQGL4Ny7do1vgNJEVIxuLf3RnX1NtGnEBhJLYMiFYN9PlrEXXGrkMvB78+WSOecJAy2WCw63U4ppBAYSXXOScJgo9HY0NAkkRQCABCCHTukcsM5SRgsgvXRYiUjQyqdc+I32Ga16vWt0kkhMCwLjY3PG43in3ckfoOvdndLKoXAIATV1dt6e2/wHQjniN9gp9MrtRQCQ9Oy2Vnxl19EbrDDbi8srOY7Cn5gWWhtPSr6RELkBn925Upr65H0vE0G1+CKhOgTCZEbLMEqRDi4IiHurg0xG2yxWCRYhQgHVyTE3bUhZoN7enokWIUIByGoq9P39pr4DoRDxGywzeaXcgqBEf0YCdEabDIN7Nol6RQCw7LwwgsnRLwooGgN7uj4fXOzqJb3iw+8KGBPD4c3EOcXcRrs9/uKinbwHUUaUVGx12EX54hhcRrc02NoahLVCsGJEApBa+uRz65c4TsQThCnwUajWQqTOqNHxLcpEKHBNqtVo9khkUmdUcKycPDgSVH2MIvQ4A87Ol566YQ0e5LXAyHQ6/WfftrFdyDJR2wG+/2+zMxSUS7RnjilpS3i+z4nNoPJd7j1EOv3OfEZPCSOuyVzgUKRNzo6zXcUSUZUBptMA3v2HCEn4PVgWTh58jtdXaLKhkVl8MWLl0k/XAQQgupqrdFo5juQZCIeg21Wa0XFXr6jSHeWlkCvbzOZBvgOJGmIx+APOzqOHDlOimiRQQgaG1suXrzMdyBJQyQGMwzDslrprCuVCHI56PXPWywWvgNJDiIx+Pz586+88i1yAo6GUAgOHGj74IMP+A4kOYjBYHICjpWMDCgtbRHHaVjwBssp6tKlSy++SLqRYyAUgpdeOvHBBx/kbNrEdyyJIniDJ21Wr1dBZhPFilwOdXUv9/X1yWTCvnYJ22CKooaHR0gGHAc4GzaZxjOIwTwyYbPVbN0v7lvEcUrbgaMDZjNFUXwHEj/CNnh47IGyUEE64eIDIcjOpV3TwUAgwHcs8SNUgymKujUycuDgUb4DETwt+5/7482bwj0NC9XgGYbxLxVkZpKBwElAVay3Tk3xHUWcCNJgiqIMN0y7djbxHYhI2KKrMY1O8h1FnAjPYIqijIODBw+f4DsQUXHg4FHjl6NCzCWEZzDJH7ggM1OeU1A+YbMJTmLhGfynm7dJ/sAFW3Q1o+NuwdUlhGQwRVF/+PyLQ4df4TsQ0dJ64MXObqOwTsOCMRinvzX6Zr4DETkHD5/oMhgEJLEwDKYoasJmk2dXlJVo+Y5F5GRmysuqmm4ODQlFYgEYjPW1OoNbdDV8xyIJykq0GZRWKBKnu8Er+pJvb6lki65GKBKntcFEXx4RisTpazBFUTeHhmYWNhF9+QJLnOZf7NLX4C6DgS6sIbkvv2zR1TQ1Hf99ZzdCKD09TjuDKYqyu1yfXLu5b99JUnlIBzIz5Yef+8v/+2IkPXvs0shgiqIQQl0Gw/Q8Tbot0o3WAy/OLGzqMhjmFxbSyuO0GF1AUVQgELg1MuKZQa0HTvIdDmFttuhqtuhqhswDcnbyG3u28x3OE/g0GP8rzzBMv9mcla1tqD9Uuy3meDwPXYWFOvFN05DJOP9oMhkwj+Y2qzQxvQt/se4dGnC4bx8/dEilVAJAMBjkJMQoSLXBKxegGYa5Z7M5Hi4oN+v27SPnXYGxa2eT7C494UR/unm9bHNeTWVlQV4ePrgptplzg8NzJpwqBBcz5hZCm8t0upoD1bVpkcYQ4gAFAltq9Vt0NcvLoQnb5EPHkCJPTmWzdTodPjFjuBY6WoGiT94DgcBjv98fDALAUiDgYZiAnwWAUEa+jKbrtx2JL9AIZGUBfxcxrsB/73T+aDKaxg8yM+U4RcZPJ6z3hsbvyVkvflpeVpRF0wCQQ1G5OTn0n9+VLDLYjRaM/ru33vrG3iermi48fgwAi4uLAPBobg4AZmZnp2fmwtvnFRRvKijGjxWKYq2mOLkRr8I148zPr+B0F3zh9T7g+qMtLbkL84rie++jhdlo3jszN+dyOfFj37xnYd4T/tsSlQJoWrVpU6FCAQDZ2dkAkJebu9Lgr9vbI29/Y4MJhHQmjerBBEIcEIMJwkZUpQCGYVwu1/bt6VJsj5WOjg4AyM3NBYDHjx+/9tprKdipyTSwbdv2nJxIi1gajddt9ycVRUUA4HQ6X3/9VOT2qUQ852CTaeDjjz8eHR0V6LK4DrvdarW+9tprx44du/zhhyUlJSnY6dtvv11UWPTTn74budn77184evz4sWPH5mZnJyYm0kdfAABWLBw/fpxl2d7eL86fP893LPEwOPglftDe3v7RRx+lYI+dnZ14R+2nT0doNjs7OzY2htu3t7enILCYEEkWYTAYXn31VQCwWMYLCgr4Dice9uxpAoCf//znu3btSk3+cPbs2Y6OjwCg3xzp/lxKpVKpVBqN18+f+9Wljz9KQWAxIbwsgnkGALh48WJWVpbBYHj33Xdb9+/nO8Y4uXjhwqNHj773ve/hDwUARuP1lcfJxWG3ezye/v5bv/zlL5ubN5gBbrFY3nnnX7G+G8aT4jsuCuwc7Pf7rl27Fv5Kbm7usWPH7t+//4tf/AIACgsLy7SCHFXc1dVluH4df4ornZ2n3njDYbfn5OTg859SqXK73VtrapL16ea93lOnTrW1tY2NjZ06dSpCS4Zhvvvd7/b0/BEADAbD1poaHFIwiNra2vx+X3//rba2NovFsn37dqPx+tmzZ1taWpRhHcvcwncakxxwJnfu3DmcsQmO3t4vamtrZ2dn7VNT586dw6n85P37OO/s7Oz88Y9/PDs7e+7cuWTtcfL+fby1yKnt7OwsAIyNjc3OznZ2dq78nSfv3x8bG+vs7LRPTeEt4J/4xWQFGQ3CyyLW5O9/8IOLFy7s2tUg0FJaVaXu8ytXXC7XvNf73HPPvf76KQDwBQL79u3DV+2/fests9lcVVWVrKSiUqcrLi7u6Og4c+bfIrccGxsDAJfLpdPpfnLmDAAM37xZqdN98skn+u3by7Ta6upqhmGqq6sddvvQwIBOp7NZrUkJMhpIr3L6wjCM2WxeuUA77PZJm7W19SDfcYHDbh82m3ft3IlTGqPxek5Ozvz8QnPzPmaW+erevba2tpQFQwwmCBuRZBEEyUIMJggbYjBB2BCDCcKGGEwQNsRggrAhBhOEDTGYIGyIwQRhQwwmCBtiMEHYEIMJwoYYTBA2/w88WUOZlZgOqwAAAABJRU5ErkJggg==)"
      ],
      "metadata": {
        "id": "xMU6JOwltEAS"
      }
    },
    {
      "cell_type": "markdown",
      "source": [
        "# Techniques for Removal of Outliers:"
      ],
      "metadata": {
        "id": "1om2A3GTtMK5"
      }
    },
    {
      "cell_type": "markdown",
      "source": [
        "# 1. Z Score treatment:"
      ],
      "metadata": {
        "id": "faG_4XgGtMgO"
      }
    },
    {
      "cell_type": "markdown",
      "source": [
        "**Assumption:** The column that you are working on should be Normally Distributed.\n",
        "\n"
      ],
      "metadata": {
        "id": "JJhoRK0duM3N"
      }
    },
    {
      "cell_type": "markdown",
      "source": [
        "**Outlier Detection:** In this technique we just try to check that values lying ouside (µ-3σ) and (µ+3σ) would be considered an Outlier.\n",
        "\n",
        "\n",
        "Formula\n",
        "\n",
        "![image.png](data:image/png;base64,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)\n",
        "\n",
        "\n",
        "Z\t=\tstandard score\n",
        "\n",
        "x\t=\tobserved value\n",
        "\n",
        "mu\t=\tmean of the sample\n",
        "\n",
        "sigma\t=\tstandard deviation of the sample\n",
        "\n",
        "\n"
      ],
      "metadata": {
        "id": "hWYViMuWuNgR"
      }
    },
    {
      "cell_type": "markdown",
      "source": [
        "Steps to Remember:\n",
        "\n",
        "Step 1: See if the data is Normally distributed and not skewed.\n",
        "\n",
        "step 2: Find out mean + 3 standard deviation and mean - 3 standard deviation to set the limits.\n",
        "\n",
        "Step 3: Then figure out weather you want to do Trimming or Capping."
      ],
      "metadata": {
        "id": "rk9-DvJPzzRI"
      }
    },
    {
      "cell_type": "markdown",
      "source": [
        "**Outlier Treatment:**\n",
        "\n",
        "1.   Trimming: If from the formula we get -3,3 then all values outside it will be removed. But problem arises that sometimes, huge amount of data can be removed, to avoid this we use Capping.\n",
        "\n",
        "2.   Capping: Determining the Min and Max value exapmle caluculating (µ+3σ) = 80 and (µ-3σ) = 5 , suppose we had ouliers 85, 3, 90. Now we can convert these to 80, 5, 80.\n",
        "\n"
      ],
      "metadata": {
        "id": "eHU4kDfnuOF2"
      }
    },
    {
      "cell_type": "markdown",
      "source": [
        "## Code"
      ],
      "metadata": {
        "id": "JWJL3WIYuQXH"
      }
    },
    {
      "cell_type": "code",
      "source": [
        "import numpy as np\n",
        "import pandas as pd\n",
        "import matplotlib.pyplot as plt\n",
        "import seaborn as sns\n",
        "import warnings\n"
      ],
      "metadata": {
        "id": "wx-E1w2i0efw"
      },
      "execution_count": 95,
      "outputs": []
    },
    {
      "cell_type": "code",
      "source": [
        "warnings.filterwarnings(\"ignore\")"
      ],
      "metadata": {
        "id": "yXhR2hdXOmR7"
      },
      "execution_count": 96,
      "outputs": []
    },
    {
      "cell_type": "code",
      "source": [
        "from google.colab import files\n",
        "\n",
        "upload = files.upload()"
      ],
      "metadata": {
        "colab": {
          "base_uri": "https://localhost:8080/",
          "height": 73
        },
        "id": "nfWJNqic0ekd",
        "outputId": "4f59bf23-4090-46fc-93e2-a13b1559a1df"
      },
      "execution_count": 97,
      "outputs": [
        {
          "output_type": "display_data",
          "data": {
            "text/plain": [
              "<IPython.core.display.HTML object>"
            ],
            "text/html": [
              "\n",
              "     <input type=\"file\" id=\"files-0aa795a9-4fc8-4ba1-b046-fbb0907e0b7d\" name=\"files[]\" multiple disabled\n",
              "        style=\"border:none\" />\n",
              "     <output id=\"result-0aa795a9-4fc8-4ba1-b046-fbb0907e0b7d\">\n",
              "      Upload widget is only available when the cell has been executed in the\n",
              "      current browser session. Please rerun this cell to enable.\n",
              "      </output>\n",
              "      <script>// Copyright 2017 Google LLC\n",
              "//\n",
              "// Licensed under the Apache License, Version 2.0 (the \"License\");\n",
              "// you may not use this file except in compliance with the License.\n",
              "// You may obtain a copy of the License at\n",
              "//\n",
              "//      http://www.apache.org/licenses/LICENSE-2.0\n",
              "//\n",
              "// Unless required by applicable law or agreed to in writing, software\n",
              "// distributed under the License is distributed on an \"AS IS\" BASIS,\n",
              "// WITHOUT WARRANTIES OR CONDITIONS OF ANY KIND, either express or implied.\n",
              "// See the License for the specific language governing permissions and\n",
              "// limitations under the License.\n",
              "\n",
              "/**\n",
              " * @fileoverview Helpers for google.colab Python module.\n",
              " */\n",
              "(function(scope) {\n",
              "function span(text, styleAttributes = {}) {\n",
              "  const element = document.createElement('span');\n",
              "  element.textContent = text;\n",
              "  for (const key of Object.keys(styleAttributes)) {\n",
              "    element.style[key] = styleAttributes[key];\n",
              "  }\n",
              "  return element;\n",
              "}\n",
              "\n",
              "// Max number of bytes which will be uploaded at a time.\n",
              "const MAX_PAYLOAD_SIZE = 100 * 1024;\n",
              "\n",
              "function _uploadFiles(inputId, outputId) {\n",
              "  const steps = uploadFilesStep(inputId, outputId);\n",
              "  const outputElement = document.getElementById(outputId);\n",
              "  // Cache steps on the outputElement to make it available for the next call\n",
              "  // to uploadFilesContinue from Python.\n",
              "  outputElement.steps = steps;\n",
              "\n",
              "  return _uploadFilesContinue(outputId);\n",
              "}\n",
              "\n",
              "// This is roughly an async generator (not supported in the browser yet),\n",
              "// where there are multiple asynchronous steps and the Python side is going\n",
              "// to poll for completion of each step.\n",
              "// This uses a Promise to block the python side on completion of each step,\n",
              "// then passes the result of the previous step as the input to the next step.\n",
              "function _uploadFilesContinue(outputId) {\n",
              "  const outputElement = document.getElementById(outputId);\n",
              "  const steps = outputElement.steps;\n",
              "\n",
              "  const next = steps.next(outputElement.lastPromiseValue);\n",
              "  return Promise.resolve(next.value.promise).then((value) => {\n",
              "    // Cache the last promise value to make it available to the next\n",
              "    // step of the generator.\n",
              "    outputElement.lastPromiseValue = value;\n",
              "    return next.value.response;\n",
              "  });\n",
              "}\n",
              "\n",
              "/**\n",
              " * Generator function which is called between each async step of the upload\n",
              " * process.\n",
              " * @param {string} inputId Element ID of the input file picker element.\n",
              " * @param {string} outputId Element ID of the output display.\n",
              " * @return {!Iterable<!Object>} Iterable of next steps.\n",
              " */\n",
              "function* uploadFilesStep(inputId, outputId) {\n",
              "  const inputElement = document.getElementById(inputId);\n",
              "  inputElement.disabled = false;\n",
              "\n",
              "  const outputElement = document.getElementById(outputId);\n",
              "  outputElement.innerHTML = '';\n",
              "\n",
              "  const pickedPromise = new Promise((resolve) => {\n",
              "    inputElement.addEventListener('change', (e) => {\n",
              "      resolve(e.target.files);\n",
              "    });\n",
              "  });\n",
              "\n",
              "  const cancel = document.createElement('button');\n",
              "  inputElement.parentElement.appendChild(cancel);\n",
              "  cancel.textContent = 'Cancel upload';\n",
              "  const cancelPromise = new Promise((resolve) => {\n",
              "    cancel.onclick = () => {\n",
              "      resolve(null);\n",
              "    };\n",
              "  });\n",
              "\n",
              "  // Wait for the user to pick the files.\n",
              "  const files = yield {\n",
              "    promise: Promise.race([pickedPromise, cancelPromise]),\n",
              "    response: {\n",
              "      action: 'starting',\n",
              "    }\n",
              "  };\n",
              "\n",
              "  cancel.remove();\n",
              "\n",
              "  // Disable the input element since further picks are not allowed.\n",
              "  inputElement.disabled = true;\n",
              "\n",
              "  if (!files) {\n",
              "    return {\n",
              "      response: {\n",
              "        action: 'complete',\n",
              "      }\n",
              "    };\n",
              "  }\n",
              "\n",
              "  for (const file of files) {\n",
              "    const li = document.createElement('li');\n",
              "    li.append(span(file.name, {fontWeight: 'bold'}));\n",
              "    li.append(span(\n",
              "        `(${file.type || 'n/a'}) - ${file.size} bytes, ` +\n",
              "        `last modified: ${\n",
              "            file.lastModifiedDate ? file.lastModifiedDate.toLocaleDateString() :\n",
              "                                    'n/a'} - `));\n",
              "    const percent = span('0% done');\n",
              "    li.appendChild(percent);\n",
              "\n",
              "    outputElement.appendChild(li);\n",
              "\n",
              "    const fileDataPromise = new Promise((resolve) => {\n",
              "      const reader = new FileReader();\n",
              "      reader.onload = (e) => {\n",
              "        resolve(e.target.result);\n",
              "      };\n",
              "      reader.readAsArrayBuffer(file);\n",
              "    });\n",
              "    // Wait for the data to be ready.\n",
              "    let fileData = yield {\n",
              "      promise: fileDataPromise,\n",
              "      response: {\n",
              "        action: 'continue',\n",
              "      }\n",
              "    };\n",
              "\n",
              "    // Use a chunked sending to avoid message size limits. See b/62115660.\n",
              "    let position = 0;\n",
              "    do {\n",
              "      const length = Math.min(fileData.byteLength - position, MAX_PAYLOAD_SIZE);\n",
              "      const chunk = new Uint8Array(fileData, position, length);\n",
              "      position += length;\n",
              "\n",
              "      const base64 = btoa(String.fromCharCode.apply(null, chunk));\n",
              "      yield {\n",
              "        response: {\n",
              "          action: 'append',\n",
              "          file: file.name,\n",
              "          data: base64,\n",
              "        },\n",
              "      };\n",
              "\n",
              "      let percentDone = fileData.byteLength === 0 ?\n",
              "          100 :\n",
              "          Math.round((position / fileData.byteLength) * 100);\n",
              "      percent.textContent = `${percentDone}% done`;\n",
              "\n",
              "    } while (position < fileData.byteLength);\n",
              "  }\n",
              "\n",
              "  // All done.\n",
              "  yield {\n",
              "    response: {\n",
              "      action: 'complete',\n",
              "    }\n",
              "  };\n",
              "}\n",
              "\n",
              "scope.google = scope.google || {};\n",
              "scope.google.colab = scope.google.colab || {};\n",
              "scope.google.colab._files = {\n",
              "  _uploadFiles,\n",
              "  _uploadFilesContinue,\n",
              "};\n",
              "})(self);\n",
              "</script> "
            ]
          },
          "metadata": {}
        },
        {
          "output_type": "stream",
          "name": "stdout",
          "text": [
            "Saving placement.csv to placement (2).csv\n"
          ]
        }
      ]
    },
    {
      "cell_type": "code",
      "source": [
        "df = pd.read_csv('placement.csv')"
      ],
      "metadata": {
        "id": "9swGZdqA02cu"
      },
      "execution_count": 98,
      "outputs": []
    },
    {
      "cell_type": "code",
      "source": [
        "df.head()"
      ],
      "metadata": {
        "colab": {
          "base_uri": "https://localhost:8080/",
          "height": 206
        },
        "id": "_m34FAYq1FTp",
        "outputId": "cddef7d0-029c-43ad-a32f-e0b75f19e422"
      },
      "execution_count": 99,
      "outputs": [
        {
          "output_type": "execute_result",
          "data": {
            "text/plain": [
              "   cgpa  placement_exam_marks  placed\n",
              "0  7.19                  26.0       1\n",
              "1  7.46                  38.0       1\n",
              "2  7.54                  40.0       1\n",
              "3  6.42                   8.0       1\n",
              "4  7.23                  17.0       0"
            ],
            "text/html": [
              "\n",
              "  <div id=\"df-844c01e1-5316-4270-b2ee-ba065e669d63\">\n",
              "    <div class=\"colab-df-container\">\n",
              "      <div>\n",
              "<style scoped>\n",
              "    .dataframe tbody tr th:only-of-type {\n",
              "        vertical-align: middle;\n",
              "    }\n",
              "\n",
              "    .dataframe tbody tr th {\n",
              "        vertical-align: top;\n",
              "    }\n",
              "\n",
              "    .dataframe thead th {\n",
              "        text-align: right;\n",
              "    }\n",
              "</style>\n",
              "<table border=\"1\" class=\"dataframe\">\n",
              "  <thead>\n",
              "    <tr style=\"text-align: right;\">\n",
              "      <th></th>\n",
              "      <th>cgpa</th>\n",
              "      <th>placement_exam_marks</th>\n",
              "      <th>placed</th>\n",
              "    </tr>\n",
              "  </thead>\n",
              "  <tbody>\n",
              "    <tr>\n",
              "      <th>0</th>\n",
              "      <td>7.19</td>\n",
              "      <td>26.0</td>\n",
              "      <td>1</td>\n",
              "    </tr>\n",
              "    <tr>\n",
              "      <th>1</th>\n",
              "      <td>7.46</td>\n",
              "      <td>38.0</td>\n",
              "      <td>1</td>\n",
              "    </tr>\n",
              "    <tr>\n",
              "      <th>2</th>\n",
              "      <td>7.54</td>\n",
              "      <td>40.0</td>\n",
              "      <td>1</td>\n",
              "    </tr>\n",
              "    <tr>\n",
              "      <th>3</th>\n",
              "      <td>6.42</td>\n",
              "      <td>8.0</td>\n",
              "      <td>1</td>\n",
              "    </tr>\n",
              "    <tr>\n",
              "      <th>4</th>\n",
              "      <td>7.23</td>\n",
              "      <td>17.0</td>\n",
              "      <td>0</td>\n",
              "    </tr>\n",
              "  </tbody>\n",
              "</table>\n",
              "</div>\n",
              "      <button class=\"colab-df-convert\" onclick=\"convertToInteractive('df-844c01e1-5316-4270-b2ee-ba065e669d63')\"\n",
              "              title=\"Convert this dataframe to an interactive table.\"\n",
              "              style=\"display:none;\">\n",
              "        \n",
              "  <svg xmlns=\"http://www.w3.org/2000/svg\" height=\"24px\"viewBox=\"0 0 24 24\"\n",
              "       width=\"24px\">\n",
              "    <path d=\"M0 0h24v24H0V0z\" fill=\"none\"/>\n",
              "    <path d=\"M18.56 5.44l.94 2.06.94-2.06 2.06-.94-2.06-.94-.94-2.06-.94 2.06-2.06.94zm-11 1L8.5 8.5l.94-2.06 2.06-.94-2.06-.94L8.5 2.5l-.94 2.06-2.06.94zm10 10l.94 2.06.94-2.06 2.06-.94-2.06-.94-.94-2.06-.94 2.06-2.06.94z\"/><path d=\"M17.41 7.96l-1.37-1.37c-.4-.4-.92-.59-1.43-.59-.52 0-1.04.2-1.43.59L10.3 9.45l-7.72 7.72c-.78.78-.78 2.05 0 2.83L4 21.41c.39.39.9.59 1.41.59.51 0 1.02-.2 1.41-.59l7.78-7.78 2.81-2.81c.8-.78.8-2.07 0-2.86zM5.41 20L4 18.59l7.72-7.72 1.47 1.35L5.41 20z\"/>\n",
              "  </svg>\n",
              "      </button>\n",
              "      \n",
              "  <style>\n",
              "    .colab-df-container {\n",
              "      display:flex;\n",
              "      flex-wrap:wrap;\n",
              "      gap: 12px;\n",
              "    }\n",
              "\n",
              "    .colab-df-convert {\n",
              "      background-color: #E8F0FE;\n",
              "      border: none;\n",
              "      border-radius: 50%;\n",
              "      cursor: pointer;\n",
              "      display: none;\n",
              "      fill: #1967D2;\n",
              "      height: 32px;\n",
              "      padding: 0 0 0 0;\n",
              "      width: 32px;\n",
              "    }\n",
              "\n",
              "    .colab-df-convert:hover {\n",
              "      background-color: #E2EBFA;\n",
              "      box-shadow: 0px 1px 2px rgba(60, 64, 67, 0.3), 0px 1px 3px 1px rgba(60, 64, 67, 0.15);\n",
              "      fill: #174EA6;\n",
              "    }\n",
              "\n",
              "    [theme=dark] .colab-df-convert {\n",
              "      background-color: #3B4455;\n",
              "      fill: #D2E3FC;\n",
              "    }\n",
              "\n",
              "    [theme=dark] .colab-df-convert:hover {\n",
              "      background-color: #434B5C;\n",
              "      box-shadow: 0px 1px 3px 1px rgba(0, 0, 0, 0.15);\n",
              "      filter: drop-shadow(0px 1px 2px rgba(0, 0, 0, 0.3));\n",
              "      fill: #FFFFFF;\n",
              "    }\n",
              "  </style>\n",
              "\n",
              "      <script>\n",
              "        const buttonEl =\n",
              "          document.querySelector('#df-844c01e1-5316-4270-b2ee-ba065e669d63 button.colab-df-convert');\n",
              "        buttonEl.style.display =\n",
              "          google.colab.kernel.accessAllowed ? 'block' : 'none';\n",
              "\n",
              "        async function convertToInteractive(key) {\n",
              "          const element = document.querySelector('#df-844c01e1-5316-4270-b2ee-ba065e669d63');\n",
              "          const dataTable =\n",
              "            await google.colab.kernel.invokeFunction('convertToInteractive',\n",
              "                                                     [key], {});\n",
              "          if (!dataTable) return;\n",
              "\n",
              "          const docLinkHtml = 'Like what you see? Visit the ' +\n",
              "            '<a target=\"_blank\" href=https://colab.research.google.com/notebooks/data_table.ipynb>data table notebook</a>'\n",
              "            + ' to learn more about interactive tables.';\n",
              "          element.innerHTML = '';\n",
              "          dataTable['output_type'] = 'display_data';\n",
              "          await google.colab.output.renderOutput(dataTable, element);\n",
              "          const docLink = document.createElement('div');\n",
              "          docLink.innerHTML = docLinkHtml;\n",
              "          element.appendChild(docLink);\n",
              "        }\n",
              "      </script>\n",
              "    </div>\n",
              "  </div>\n",
              "  "
            ]
          },
          "metadata": {},
          "execution_count": 99
        }
      ]
    },
    {
      "cell_type": "code",
      "source": [
        "df.shape"
      ],
      "metadata": {
        "colab": {
          "base_uri": "https://localhost:8080/"
        },
        "id": "p4U8CBc05tdR",
        "outputId": "b1a62fad-f463-4dbd-911a-c75dd39c1a50"
      },
      "execution_count": 100,
      "outputs": [
        {
          "output_type": "execute_result",
          "data": {
            "text/plain": [
              "(1000, 3)"
            ]
          },
          "metadata": {},
          "execution_count": 100
        }
      ]
    },
    {
      "cell_type": "code",
      "source": [
        "df.sample(10)"
      ],
      "metadata": {
        "colab": {
          "base_uri": "https://localhost:8080/",
          "height": 363
        },
        "id": "efSP906p1Hag",
        "outputId": "c6ce1ae2-9a43-4608-d5dc-cffb8a521723"
      },
      "execution_count": 101,
      "outputs": [
        {
          "output_type": "execute_result",
          "data": {
            "text/plain": [
              "     cgpa  placement_exam_marks  placed\n",
              "227  7.03                  19.0       0\n",
              "149  6.81                  58.0       0\n",
              "283  7.09                  87.0       0\n",
              "393  6.60                  18.0       0\n",
              "241  7.22                  18.0       0\n",
              "520  7.39                  20.0       1\n",
              "703  7.04                  41.0       0\n",
              "996  9.12                  65.0       1\n",
              "854  5.83                  68.0       1\n",
              "834  6.22                  52.0       1"
            ],
            "text/html": [
              "\n",
              "  <div id=\"df-40bacce5-f4b4-4a49-bcdb-19df67f87617\">\n",
              "    <div class=\"colab-df-container\">\n",
              "      <div>\n",
              "<style scoped>\n",
              "    .dataframe tbody tr th:only-of-type {\n",
              "        vertical-align: middle;\n",
              "    }\n",
              "\n",
              "    .dataframe tbody tr th {\n",
              "        vertical-align: top;\n",
              "    }\n",
              "\n",
              "    .dataframe thead th {\n",
              "        text-align: right;\n",
              "    }\n",
              "</style>\n",
              "<table border=\"1\" class=\"dataframe\">\n",
              "  <thead>\n",
              "    <tr style=\"text-align: right;\">\n",
              "      <th></th>\n",
              "      <th>cgpa</th>\n",
              "      <th>placement_exam_marks</th>\n",
              "      <th>placed</th>\n",
              "    </tr>\n",
              "  </thead>\n",
              "  <tbody>\n",
              "    <tr>\n",
              "      <th>227</th>\n",
              "      <td>7.03</td>\n",
              "      <td>19.0</td>\n",
              "      <td>0</td>\n",
              "    </tr>\n",
              "    <tr>\n",
              "      <th>149</th>\n",
              "      <td>6.81</td>\n",
              "      <td>58.0</td>\n",
              "      <td>0</td>\n",
              "    </tr>\n",
              "    <tr>\n",
              "      <th>283</th>\n",
              "      <td>7.09</td>\n",
              "      <td>87.0</td>\n",
              "      <td>0</td>\n",
              "    </tr>\n",
              "    <tr>\n",
              "      <th>393</th>\n",
              "      <td>6.60</td>\n",
              "      <td>18.0</td>\n",
              "      <td>0</td>\n",
              "    </tr>\n",
              "    <tr>\n",
              "      <th>241</th>\n",
              "      <td>7.22</td>\n",
              "      <td>18.0</td>\n",
              "      <td>0</td>\n",
              "    </tr>\n",
              "    <tr>\n",
              "      <th>520</th>\n",
              "      <td>7.39</td>\n",
              "      <td>20.0</td>\n",
              "      <td>1</td>\n",
              "    </tr>\n",
              "    <tr>\n",
              "      <th>703</th>\n",
              "      <td>7.04</td>\n",
              "      <td>41.0</td>\n",
              "      <td>0</td>\n",
              "    </tr>\n",
              "    <tr>\n",
              "      <th>996</th>\n",
              "      <td>9.12</td>\n",
              "      <td>65.0</td>\n",
              "      <td>1</td>\n",
              "    </tr>\n",
              "    <tr>\n",
              "      <th>854</th>\n",
              "      <td>5.83</td>\n",
              "      <td>68.0</td>\n",
              "      <td>1</td>\n",
              "    </tr>\n",
              "    <tr>\n",
              "      <th>834</th>\n",
              "      <td>6.22</td>\n",
              "      <td>52.0</td>\n",
              "      <td>1</td>\n",
              "    </tr>\n",
              "  </tbody>\n",
              "</table>\n",
              "</div>\n",
              "      <button class=\"colab-df-convert\" onclick=\"convertToInteractive('df-40bacce5-f4b4-4a49-bcdb-19df67f87617')\"\n",
              "              title=\"Convert this dataframe to an interactive table.\"\n",
              "              style=\"display:none;\">\n",
              "        \n",
              "  <svg xmlns=\"http://www.w3.org/2000/svg\" height=\"24px\"viewBox=\"0 0 24 24\"\n",
              "       width=\"24px\">\n",
              "    <path d=\"M0 0h24v24H0V0z\" fill=\"none\"/>\n",
              "    <path d=\"M18.56 5.44l.94 2.06.94-2.06 2.06-.94-2.06-.94-.94-2.06-.94 2.06-2.06.94zm-11 1L8.5 8.5l.94-2.06 2.06-.94-2.06-.94L8.5 2.5l-.94 2.06-2.06.94zm10 10l.94 2.06.94-2.06 2.06-.94-2.06-.94-.94-2.06-.94 2.06-2.06.94z\"/><path d=\"M17.41 7.96l-1.37-1.37c-.4-.4-.92-.59-1.43-.59-.52 0-1.04.2-1.43.59L10.3 9.45l-7.72 7.72c-.78.78-.78 2.05 0 2.83L4 21.41c.39.39.9.59 1.41.59.51 0 1.02-.2 1.41-.59l7.78-7.78 2.81-2.81c.8-.78.8-2.07 0-2.86zM5.41 20L4 18.59l7.72-7.72 1.47 1.35L5.41 20z\"/>\n",
              "  </svg>\n",
              "      </button>\n",
              "      \n",
              "  <style>\n",
              "    .colab-df-container {\n",
              "      display:flex;\n",
              "      flex-wrap:wrap;\n",
              "      gap: 12px;\n",
              "    }\n",
              "\n",
              "    .colab-df-convert {\n",
              "      background-color: #E8F0FE;\n",
              "      border: none;\n",
              "      border-radius: 50%;\n",
              "      cursor: pointer;\n",
              "      display: none;\n",
              "      fill: #1967D2;\n",
              "      height: 32px;\n",
              "      padding: 0 0 0 0;\n",
              "      width: 32px;\n",
              "    }\n",
              "\n",
              "    .colab-df-convert:hover {\n",
              "      background-color: #E2EBFA;\n",
              "      box-shadow: 0px 1px 2px rgba(60, 64, 67, 0.3), 0px 1px 3px 1px rgba(60, 64, 67, 0.15);\n",
              "      fill: #174EA6;\n",
              "    }\n",
              "\n",
              "    [theme=dark] .colab-df-convert {\n",
              "      background-color: #3B4455;\n",
              "      fill: #D2E3FC;\n",
              "    }\n",
              "\n",
              "    [theme=dark] .colab-df-convert:hover {\n",
              "      background-color: #434B5C;\n",
              "      box-shadow: 0px 1px 3px 1px rgba(0, 0, 0, 0.15);\n",
              "      filter: drop-shadow(0px 1px 2px rgba(0, 0, 0, 0.3));\n",
              "      fill: #FFFFFF;\n",
              "    }\n",
              "  </style>\n",
              "\n",
              "      <script>\n",
              "        const buttonEl =\n",
              "          document.querySelector('#df-40bacce5-f4b4-4a49-bcdb-19df67f87617 button.colab-df-convert');\n",
              "        buttonEl.style.display =\n",
              "          google.colab.kernel.accessAllowed ? 'block' : 'none';\n",
              "\n",
              "        async function convertToInteractive(key) {\n",
              "          const element = document.querySelector('#df-40bacce5-f4b4-4a49-bcdb-19df67f87617');\n",
              "          const dataTable =\n",
              "            await google.colab.kernel.invokeFunction('convertToInteractive',\n",
              "                                                     [key], {});\n",
              "          if (!dataTable) return;\n",
              "\n",
              "          const docLinkHtml = 'Like what you see? Visit the ' +\n",
              "            '<a target=\"_blank\" href=https://colab.research.google.com/notebooks/data_table.ipynb>data table notebook</a>'\n",
              "            + ' to learn more about interactive tables.';\n",
              "          element.innerHTML = '';\n",
              "          dataTable['output_type'] = 'display_data';\n",
              "          await google.colab.output.renderOutput(dataTable, element);\n",
              "          const docLink = document.createElement('div');\n",
              "          docLink.innerHTML = docLinkHtml;\n",
              "          element.appendChild(docLink);\n",
              "        }\n",
              "      </script>\n",
              "    </div>\n",
              "  </div>\n",
              "  "
            ]
          },
          "metadata": {},
          "execution_count": 101
        }
      ]
    },
    {
      "cell_type": "code",
      "source": [
        "plt.figure(figsize = (16,5))\n",
        "plt.subplot(1,2,1)\n",
        "sns.distplot(df['cgpa'])\n",
        "\n",
        "plt.subplot(1,2,2)\n",
        "sns.distplot(df['placement_exam_marks'])\n",
        "\n",
        "plt.show()"
      ],
      "metadata": {
        "colab": {
          "base_uri": "https://localhost:8080/",
          "height": 335
        },
        "id": "PwN1Quxz1Llv",
        "outputId": "4bfed41c-3517-4cd6-9ea5-3400b3c6d3cd"
      },
      "execution_count": 102,
      "outputs": [
        {
          "output_type": "display_data",
          "data": {
            "text/plain": [
              "<Figure size 1152x360 with 2 Axes>"
            ],
            "image/png": "[encoded data removed]"
          },
          "metadata": {
            "needs_background": "light"
          }
        }
      ]
    },
    {
      "cell_type": "markdown",
      "source": [
        "**Inference:** We can clearly see that the cgpa curve is normally distributed and the placement marks curve is skewed.\n",
        "\n",
        "Hence, we can use easily use the Z score method in the first curve."
      ],
      "metadata": {
        "id": "uXBCwtcU3SqR"
      }
    },
    {
      "cell_type": "code",
      "source": [
        "print('Mean value of cgpa',df['cgpa'].mean())\n",
        "print('Std value of cgpa',df['cgpa'].std())\n",
        "print('Min value of cgpa',df['cgpa'].min())\n",
        "print('Max value of cgpa',df['cgpa'].max())"
      ],
      "metadata": {
        "colab": {
          "base_uri": "https://localhost:8080/"
        },
        "id": "rf9CxOlH1l2e",
        "outputId": "f3eaf9a7-af02-409a-9012-e94a19891295"
      },
      "execution_count": 103,
      "outputs": [
        {
          "output_type": "stream",
          "name": "stdout",
          "text": [
            "Mean value of cgpa 6.96124\n",
            "Std value of cgpa 0.6158978751323896\n",
            "Min value of cgpa 4.89\n",
            "Max value of cgpa 9.12\n"
          ]
        }
      ]
    },
    {
      "cell_type": "code",
      "source": [
        "# finding the boundary values\n",
        "\n",
        "print('Highest allowed',df['cgpa'].mean() + 3*df['cgpa'].std())\n",
        "print('Lowest allowed',df['cgpa'].mean() - 3*df['cgpa'].std())"
      ],
      "metadata": {
        "colab": {
          "base_uri": "https://localhost:8080/"
        },
        "id": "reJGMloK4CqT",
        "outputId": "aa06d4ac-9ffa-4ffc-f32e-f9111153bc6d"
      },
      "execution_count": 104,
      "outputs": [
        {
          "output_type": "stream",
          "name": "stdout",
          "text": [
            "Highest allowed 8.808933625397168\n",
            "Lowest allowed 5.113546374602832\n"
          ]
        }
      ]
    },
    {
      "cell_type": "markdown",
      "source": [
        "**Inference:** Here we set the boundaries that any value above 8.808 and below 5.113 will be considered as an outlier."
      ],
      "metadata": {
        "id": "T1j9H1oX4hXE"
      }
    },
    {
      "cell_type": "code",
      "source": [
        "#finding the outlier\n",
        "\n",
        "df[(df['cgpa'] > 8.80) | (df['cgpa'] < 5.11)]"
      ],
      "metadata": {
        "colab": {
          "base_uri": "https://localhost:8080/",
          "height": 206
        },
        "id": "phT34YiF4EX3",
        "outputId": "820e11ad-853f-4dce-8af9-898c72c64ccb"
      },
      "execution_count": 105,
      "outputs": [
        {
          "output_type": "execute_result",
          "data": {
            "text/plain": [
              "     cgpa  placement_exam_marks  placed\n",
              "485  4.92                  44.0       1\n",
              "995  8.87                  44.0       1\n",
              "996  9.12                  65.0       1\n",
              "997  4.89                  34.0       0\n",
              "999  4.90                  10.0       1"
            ],
            "text/html": [
              "\n",
              "  <div id=\"df-4d2a2c9d-e4dc-49bb-85bd-3e878494ae14\">\n",
              "    <div class=\"colab-df-container\">\n",
              "      <div>\n",
              "<style scoped>\n",
              "    .dataframe tbody tr th:only-of-type {\n",
              "        vertical-align: middle;\n",
              "    }\n",
              "\n",
              "    .dataframe tbody tr th {\n",
              "        vertical-align: top;\n",
              "    }\n",
              "\n",
              "    .dataframe thead th {\n",
              "        text-align: right;\n",
              "    }\n",
              "</style>\n",
              "<table border=\"1\" class=\"dataframe\">\n",
              "  <thead>\n",
              "    <tr style=\"text-align: right;\">\n",
              "      <th></th>\n",
              "      <th>cgpa</th>\n",
              "      <th>placement_exam_marks</th>\n",
              "      <th>placed</th>\n",
              "    </tr>\n",
              "  </thead>\n",
              "  <tbody>\n",
              "    <tr>\n",
              "      <th>485</th>\n",
              "      <td>4.92</td>\n",
              "      <td>44.0</td>\n",
              "      <td>1</td>\n",
              "    </tr>\n",
              "    <tr>\n",
              "      <th>995</th>\n",
              "      <td>8.87</td>\n",
              "      <td>44.0</td>\n",
              "      <td>1</td>\n",
              "    </tr>\n",
              "    <tr>\n",
              "      <th>996</th>\n",
              "      <td>9.12</td>\n",
              "      <td>65.0</td>\n",
              "      <td>1</td>\n",
              "    </tr>\n",
              "    <tr>\n",
              "      <th>997</th>\n",
              "      <td>4.89</td>\n",
              "      <td>34.0</td>\n",
              "      <td>0</td>\n",
              "    </tr>\n",
              "    <tr>\n",
              "      <th>999</th>\n",
              "      <td>4.90</td>\n",
              "      <td>10.0</td>\n",
              "      <td>1</td>\n",
              "    </tr>\n",
              "  </tbody>\n",
              "</table>\n",
              "</div>\n",
              "      <button class=\"colab-df-convert\" onclick=\"convertToInteractive('df-4d2a2c9d-e4dc-49bb-85bd-3e878494ae14')\"\n",
              "              title=\"Convert this dataframe to an interactive table.\"\n",
              "              style=\"display:none;\">\n",
              "        \n",
              "  <svg xmlns=\"http://www.w3.org/2000/svg\" height=\"24px\"viewBox=\"0 0 24 24\"\n",
              "       width=\"24px\">\n",
              "    <path d=\"M0 0h24v24H0V0z\" fill=\"none\"/>\n",
              "    <path d=\"M18.56 5.44l.94 2.06.94-2.06 2.06-.94-2.06-.94-.94-2.06-.94 2.06-2.06.94zm-11 1L8.5 8.5l.94-2.06 2.06-.94-2.06-.94L8.5 2.5l-.94 2.06-2.06.94zm10 10l.94 2.06.94-2.06 2.06-.94-2.06-.94-.94-2.06-.94 2.06-2.06.94z\"/><path d=\"M17.41 7.96l-1.37-1.37c-.4-.4-.92-.59-1.43-.59-.52 0-1.04.2-1.43.59L10.3 9.45l-7.72 7.72c-.78.78-.78 2.05 0 2.83L4 21.41c.39.39.9.59 1.41.59.51 0 1.02-.2 1.41-.59l7.78-7.78 2.81-2.81c.8-.78.8-2.07 0-2.86zM5.41 20L4 18.59l7.72-7.72 1.47 1.35L5.41 20z\"/>\n",
              "  </svg>\n",
              "      </button>\n",
              "      \n",
              "  <style>\n",
              "    .colab-df-container {\n",
              "      display:flex;\n",
              "      flex-wrap:wrap;\n",
              "      gap: 12px;\n",
              "    }\n",
              "\n",
              "    .colab-df-convert {\n",
              "      background-color: #E8F0FE;\n",
              "      border: none;\n",
              "      border-radius: 50%;\n",
              "      cursor: pointer;\n",
              "      display: none;\n",
              "      fill: #1967D2;\n",
              "      height: 32px;\n",
              "      padding: 0 0 0 0;\n",
              "      width: 32px;\n",
              "    }\n",
              "\n",
              "    .colab-df-convert:hover {\n",
              "      background-color: #E2EBFA;\n",
              "      box-shadow: 0px 1px 2px rgba(60, 64, 67, 0.3), 0px 1px 3px 1px rgba(60, 64, 67, 0.15);\n",
              "      fill: #174EA6;\n",
              "    }\n",
              "\n",
              "    [theme=dark] .colab-df-convert {\n",
              "      background-color: #3B4455;\n",
              "      fill: #D2E3FC;\n",
              "    }\n",
              "\n",
              "    [theme=dark] .colab-df-convert:hover {\n",
              "      background-color: #434B5C;\n",
              "      box-shadow: 0px 1px 3px 1px rgba(0, 0, 0, 0.15);\n",
              "      filter: drop-shadow(0px 1px 2px rgba(0, 0, 0, 0.3));\n",
              "      fill: #FFFFFF;\n",
              "    }\n",
              "  </style>\n",
              "\n",
              "      <script>\n",
              "        const buttonEl =\n",
              "          document.querySelector('#df-4d2a2c9d-e4dc-49bb-85bd-3e878494ae14 button.colab-df-convert');\n",
              "        buttonEl.style.display =\n",
              "          google.colab.kernel.accessAllowed ? 'block' : 'none';\n",
              "\n",
              "        async function convertToInteractive(key) {\n",
              "          const element = document.querySelector('#df-4d2a2c9d-e4dc-49bb-85bd-3e878494ae14');\n",
              "          const dataTable =\n",
              "            await google.colab.kernel.invokeFunction('convertToInteractive',\n",
              "                                                     [key], {});\n",
              "          if (!dataTable) return;\n",
              "\n",
              "          const docLinkHtml = 'Like what you see? Visit the ' +\n",
              "            '<a target=\"_blank\" href=https://colab.research.google.com/notebooks/data_table.ipynb>data table notebook</a>'\n",
              "            + ' to learn more about interactive tables.';\n",
              "          element.innerHTML = '';\n",
              "          dataTable['output_type'] = 'display_data';\n",
              "          await google.colab.output.renderOutput(dataTable, element);\n",
              "          const docLink = document.createElement('div');\n",
              "          docLink.innerHTML = docLinkHtml;\n",
              "          element.appendChild(docLink);\n",
              "        }\n",
              "      </script>\n",
              "    </div>\n",
              "  </div>\n",
              "  "
            ]
          },
          "metadata": {},
          "execution_count": 105
        }
      ]
    },
    {
      "cell_type": "markdown",
      "source": [
        "**Inference:** 5 outliers found after setting the boundary conditions."
      ],
      "metadata": {
        "id": "3T9yRg345I86"
      }
    },
    {
      "cell_type": "markdown",
      "source": [
        "# **Trimming** the outliers"
      ],
      "metadata": {
        "id": "YBouUCLm5EhG"
      }
    },
    {
      "cell_type": "code",
      "source": [
        "new_df= df[(df['cgpa'] < 8.80) & (df['cgpa'] > 5.11)]\n",
        "new_df"
      ],
      "metadata": {
        "colab": {
          "base_uri": "https://localhost:8080/",
          "height": 424
        },
        "id": "H5Kpk3pc472Q",
        "outputId": "3976323a-18c3-4e52-a472-20387d8acf8f"
      },
      "execution_count": 106,
      "outputs": [
        {
          "output_type": "execute_result",
          "data": {
            "text/plain": [
              "     cgpa  placement_exam_marks  placed\n",
              "0    7.19                  26.0       1\n",
              "1    7.46                  38.0       1\n",
              "2    7.54                  40.0       1\n",
              "3    6.42                   8.0       1\n",
              "4    7.23                  17.0       0\n",
              "..    ...                   ...     ...\n",
              "991  7.04                  57.0       0\n",
              "992  6.26                  12.0       0\n",
              "993  6.73                  21.0       1\n",
              "994  6.48                  63.0       0\n",
              "998  8.62                  46.0       1\n",
              "\n",
              "[995 rows x 3 columns]"
            ],
            "text/html": [
              "\n",
              "  <div id=\"df-e60ed2a3-e77d-4b5a-9d2e-48e9750ca3c3\">\n",
              "    <div class=\"colab-df-container\">\n",
              "      <div>\n",
              "<style scoped>\n",
              "    .dataframe tbody tr th:only-of-type {\n",
              "        vertical-align: middle;\n",
              "    }\n",
              "\n",
              "    .dataframe tbody tr th {\n",
              "        vertical-align: top;\n",
              "    }\n",
              "\n",
              "    .dataframe thead th {\n",
              "        text-align: right;\n",
              "    }\n",
              "</style>\n",
              "<table border=\"1\" class=\"dataframe\">\n",
              "  <thead>\n",
              "    <tr style=\"text-align: right;\">\n",
              "      <th></th>\n",
              "      <th>cgpa</th>\n",
              "      <th>placement_exam_marks</th>\n",
              "      <th>placed</th>\n",
              "    </tr>\n",
              "  </thead>\n",
              "  <tbody>\n",
              "    <tr>\n",
              "      <th>0</th>\n",
              "      <td>7.19</td>\n",
              "      <td>26.0</td>\n",
              "      <td>1</td>\n",
              "    </tr>\n",
              "    <tr>\n",
              "      <th>1</th>\n",
              "      <td>7.46</td>\n",
              "      <td>38.0</td>\n",
              "      <td>1</td>\n",
              "    </tr>\n",
              "    <tr>\n",
              "      <th>2</th>\n",
              "      <td>7.54</td>\n",
              "      <td>40.0</td>\n",
              "      <td>1</td>\n",
              "    </tr>\n",
              "    <tr>\n",
              "      <th>3</th>\n",
              "      <td>6.42</td>\n",
              "      <td>8.0</td>\n",
              "      <td>1</td>\n",
              "    </tr>\n",
              "    <tr>\n",
              "      <th>4</th>\n",
              "      <td>7.23</td>\n",
              "      <td>17.0</td>\n",
              "      <td>0</td>\n",
              "    </tr>\n",
              "    <tr>\n",
              "      <th>...</th>\n",
              "      <td>...</td>\n",
              "      <td>...</td>\n",
              "      <td>...</td>\n",
              "    </tr>\n",
              "    <tr>\n",
              "      <th>991</th>\n",
              "      <td>7.04</td>\n",
              "      <td>57.0</td>\n",
              "      <td>0</td>\n",
              "    </tr>\n",
              "    <tr>\n",
              "      <th>992</th>\n",
              "      <td>6.26</td>\n",
              "      <td>12.0</td>\n",
              "      <td>0</td>\n",
              "    </tr>\n",
              "    <tr>\n",
              "      <th>993</th>\n",
              "      <td>6.73</td>\n",
              "      <td>21.0</td>\n",
              "      <td>1</td>\n",
              "    </tr>\n",
              "    <tr>\n",
              "      <th>994</th>\n",
              "      <td>6.48</td>\n",
              "      <td>63.0</td>\n",
              "      <td>0</td>\n",
              "    </tr>\n",
              "    <tr>\n",
              "      <th>998</th>\n",
              "      <td>8.62</td>\n",
              "      <td>46.0</td>\n",
              "      <td>1</td>\n",
              "    </tr>\n",
              "  </tbody>\n",
              "</table>\n",
              "<p>995 rows × 3 columns</p>\n",
              "</div>\n",
              "      <button class=\"colab-df-convert\" onclick=\"convertToInteractive('df-e60ed2a3-e77d-4b5a-9d2e-48e9750ca3c3')\"\n",
              "              title=\"Convert this dataframe to an interactive table.\"\n",
              "              style=\"display:none;\">\n",
              "        \n",
              "  <svg xmlns=\"http://www.w3.org/2000/svg\" height=\"24px\"viewBox=\"0 0 24 24\"\n",
              "       width=\"24px\">\n",
              "    <path d=\"M0 0h24v24H0V0z\" fill=\"none\"/>\n",
              "    <path d=\"M18.56 5.44l.94 2.06.94-2.06 2.06-.94-2.06-.94-.94-2.06-.94 2.06-2.06.94zm-11 1L8.5 8.5l.94-2.06 2.06-.94-2.06-.94L8.5 2.5l-.94 2.06-2.06.94zm10 10l.94 2.06.94-2.06 2.06-.94-2.06-.94-.94-2.06-.94 2.06-2.06.94z\"/><path d=\"M17.41 7.96l-1.37-1.37c-.4-.4-.92-.59-1.43-.59-.52 0-1.04.2-1.43.59L10.3 9.45l-7.72 7.72c-.78.78-.78 2.05 0 2.83L4 21.41c.39.39.9.59 1.41.59.51 0 1.02-.2 1.41-.59l7.78-7.78 2.81-2.81c.8-.78.8-2.07 0-2.86zM5.41 20L4 18.59l7.72-7.72 1.47 1.35L5.41 20z\"/>\n",
              "  </svg>\n",
              "      </button>\n",
              "      \n",
              "  <style>\n",
              "    .colab-df-container {\n",
              "      display:flex;\n",
              "      flex-wrap:wrap;\n",
              "      gap: 12px;\n",
              "    }\n",
              "\n",
              "    .colab-df-convert {\n",
              "      background-color: #E8F0FE;\n",
              "      border: none;\n",
              "      border-radius: 50%;\n",
              "      cursor: pointer;\n",
              "      display: none;\n",
              "      fill: #1967D2;\n",
              "      height: 32px;\n",
              "      padding: 0 0 0 0;\n",
              "      width: 32px;\n",
              "    }\n",
              "\n",
              "    .colab-df-convert:hover {\n",
              "      background-color: #E2EBFA;\n",
              "      box-shadow: 0px 1px 2px rgba(60, 64, 67, 0.3), 0px 1px 3px 1px rgba(60, 64, 67, 0.15);\n",
              "      fill: #174EA6;\n",
              "    }\n",
              "\n",
              "    [theme=dark] .colab-df-convert {\n",
              "      background-color: #3B4455;\n",
              "      fill: #D2E3FC;\n",
              "    }\n",
              "\n",
              "    [theme=dark] .colab-df-convert:hover {\n",
              "      background-color: #434B5C;\n",
              "      box-shadow: 0px 1px 3px 1px rgba(0, 0, 0, 0.15);\n",
              "      filter: drop-shadow(0px 1px 2px rgba(0, 0, 0, 0.3));\n",
              "      fill: #FFFFFF;\n",
              "    }\n",
              "  </style>\n",
              "\n",
              "      <script>\n",
              "        const buttonEl =\n",
              "          document.querySelector('#df-e60ed2a3-e77d-4b5a-9d2e-48e9750ca3c3 button.colab-df-convert');\n",
              "        buttonEl.style.display =\n",
              "          google.colab.kernel.accessAllowed ? 'block' : 'none';\n",
              "\n",
              "        async function convertToInteractive(key) {\n",
              "          const element = document.querySelector('#df-e60ed2a3-e77d-4b5a-9d2e-48e9750ca3c3');\n",
              "          const dataTable =\n",
              "            await google.colab.kernel.invokeFunction('convertToInteractive',\n",
              "                                                     [key], {});\n",
              "          if (!dataTable) return;\n",
              "\n",
              "          const docLinkHtml = 'Like what you see? Visit the ' +\n",
              "            '<a target=\"_blank\" href=https://colab.research.google.com/notebooks/data_table.ipynb>data table notebook</a>'\n",
              "            + ' to learn more about interactive tables.';\n",
              "          element.innerHTML = '';\n",
              "          dataTable['output_type'] = 'display_data';\n",
              "          await google.colab.output.renderOutput(dataTable, element);\n",
              "          const docLink = document.createElement('div');\n",
              "          docLink.innerHTML = docLinkHtml;\n",
              "          element.appendChild(docLink);\n",
              "        }\n",
              "      </script>\n",
              "    </div>\n",
              "  </div>\n",
              "  "
            ]
          },
          "metadata": {},
          "execution_count": 106
        }
      ]
    },
    {
      "cell_type": "markdown",
      "source": [
        "**Inference:** We could see that initially the shape of the data was (1000,3) but now after trimming the outliers it is reduced to (995,3)"
      ],
      "metadata": {
        "id": "ht7duOq_5wx6"
      }
    },
    {
      "cell_type": "code",
      "source": [
        "# Approach 2 \n",
        "# Calculating the Z score using formula\n",
        "\n",
        "df['cgpa_zscore'] = (df['cgpa'] - df['cgpa'].mean())/df['cgpa'].std()"
      ],
      "metadata": {
        "id": "nYGCC-Ke5Xd3"
      },
      "execution_count": 107,
      "outputs": []
    },
    {
      "cell_type": "code",
      "source": [
        "df.head()"
      ],
      "metadata": {
        "colab": {
          "base_uri": "https://localhost:8080/",
          "height": 206
        },
        "id": "FK_kgDTJ5Xh-",
        "outputId": "b198d265-9cc0-40eb-82a3-b1dc27a6d14c"
      },
      "execution_count": 108,
      "outputs": [
        {
          "output_type": "execute_result",
          "data": {
            "text/plain": [
              "   cgpa  placement_exam_marks  placed  cgpa_zscore\n",
              "0  7.19                  26.0       1     0.371425\n",
              "1  7.46                  38.0       1     0.809810\n",
              "2  7.54                  40.0       1     0.939701\n",
              "3  6.42                   8.0       1    -0.878782\n",
              "4  7.23                  17.0       0     0.436371"
            ],
            "text/html": [
              "\n",
              "  <div id=\"df-c155ff53-7f6d-46d8-997f-713b5903bf14\">\n",
              "    <div class=\"colab-df-container\">\n",
              "      <div>\n",
              "<style scoped>\n",
              "    .dataframe tbody tr th:only-of-type {\n",
              "        vertical-align: middle;\n",
              "    }\n",
              "\n",
              "    .dataframe tbody tr th {\n",
              "        vertical-align: top;\n",
              "    }\n",
              "\n",
              "    .dataframe thead th {\n",
              "        text-align: right;\n",
              "    }\n",
              "</style>\n",
              "<table border=\"1\" class=\"dataframe\">\n",
              "  <thead>\n",
              "    <tr style=\"text-align: right;\">\n",
              "      <th></th>\n",
              "      <th>cgpa</th>\n",
              "      <th>placement_exam_marks</th>\n",
              "      <th>placed</th>\n",
              "      <th>cgpa_zscore</th>\n",
              "    </tr>\n",
              "  </thead>\n",
              "  <tbody>\n",
              "    <tr>\n",
              "      <th>0</th>\n",
              "      <td>7.19</td>\n",
              "      <td>26.0</td>\n",
              "      <td>1</td>\n",
              "      <td>0.371425</td>\n",
              "    </tr>\n",
              "    <tr>\n",
              "      <th>1</th>\n",
              "      <td>7.46</td>\n",
              "      <td>38.0</td>\n",
              "      <td>1</td>\n",
              "      <td>0.809810</td>\n",
              "    </tr>\n",
              "    <tr>\n",
              "      <th>2</th>\n",
              "      <td>7.54</td>\n",
              "      <td>40.0</td>\n",
              "      <td>1</td>\n",
              "      <td>0.939701</td>\n",
              "    </tr>\n",
              "    <tr>\n",
              "      <th>3</th>\n",
              "      <td>6.42</td>\n",
              "      <td>8.0</td>\n",
              "      <td>1</td>\n",
              "      <td>-0.878782</td>\n",
              "    </tr>\n",
              "    <tr>\n",
              "      <th>4</th>\n",
              "      <td>7.23</td>\n",
              "      <td>17.0</td>\n",
              "      <td>0</td>\n",
              "      <td>0.436371</td>\n",
              "    </tr>\n",
              "  </tbody>\n",
              "</table>\n",
              "</div>\n",
              "      <button class=\"colab-df-convert\" onclick=\"convertToInteractive('df-c155ff53-7f6d-46d8-997f-713b5903bf14')\"\n",
              "              title=\"Convert this dataframe to an interactive table.\"\n",
              "              style=\"display:none;\">\n",
              "        \n",
              "  <svg xmlns=\"http://www.w3.org/2000/svg\" height=\"24px\"viewBox=\"0 0 24 24\"\n",
              "       width=\"24px\">\n",
              "    <path d=\"M0 0h24v24H0V0z\" fill=\"none\"/>\n",
              "    <path d=\"M18.56 5.44l.94 2.06.94-2.06 2.06-.94-2.06-.94-.94-2.06-.94 2.06-2.06.94zm-11 1L8.5 8.5l.94-2.06 2.06-.94-2.06-.94L8.5 2.5l-.94 2.06-2.06.94zm10 10l.94 2.06.94-2.06 2.06-.94-2.06-.94-.94-2.06-.94 2.06-2.06.94z\"/><path d=\"M17.41 7.96l-1.37-1.37c-.4-.4-.92-.59-1.43-.59-.52 0-1.04.2-1.43.59L10.3 9.45l-7.72 7.72c-.78.78-.78 2.05 0 2.83L4 21.41c.39.39.9.59 1.41.59.51 0 1.02-.2 1.41-.59l7.78-7.78 2.81-2.81c.8-.78.8-2.07 0-2.86zM5.41 20L4 18.59l7.72-7.72 1.47 1.35L5.41 20z\"/>\n",
              "  </svg>\n",
              "      </button>\n",
              "      \n",
              "  <style>\n",
              "    .colab-df-container {\n",
              "      display:flex;\n",
              "      flex-wrap:wrap;\n",
              "      gap: 12px;\n",
              "    }\n",
              "\n",
              "    .colab-df-convert {\n",
              "      background-color: #E8F0FE;\n",
              "      border: none;\n",
              "      border-radius: 50%;\n",
              "      cursor: pointer;\n",
              "      display: none;\n",
              "      fill: #1967D2;\n",
              "      height: 32px;\n",
              "      padding: 0 0 0 0;\n",
              "      width: 32px;\n",
              "    }\n",
              "\n",
              "    .colab-df-convert:hover {\n",
              "      background-color: #E2EBFA;\n",
              "      box-shadow: 0px 1px 2px rgba(60, 64, 67, 0.3), 0px 1px 3px 1px rgba(60, 64, 67, 0.15);\n",
              "      fill: #174EA6;\n",
              "    }\n",
              "\n",
              "    [theme=dark] .colab-df-convert {\n",
              "      background-color: #3B4455;\n",
              "      fill: #D2E3FC;\n",
              "    }\n",
              "\n",
              "    [theme=dark] .colab-df-convert:hover {\n",
              "      background-color: #434B5C;\n",
              "      box-shadow: 0px 1px 3px 1px rgba(0, 0, 0, 0.15);\n",
              "      filter: drop-shadow(0px 1px 2px rgba(0, 0, 0, 0.3));\n",
              "      fill: #FFFFFF;\n",
              "    }\n",
              "  </style>\n",
              "\n",
              "      <script>\n",
              "        const buttonEl =\n",
              "          document.querySelector('#df-c155ff53-7f6d-46d8-997f-713b5903bf14 button.colab-df-convert');\n",
              "        buttonEl.style.display =\n",
              "          google.colab.kernel.accessAllowed ? 'block' : 'none';\n",
              "\n",
              "        async function convertToInteractive(key) {\n",
              "          const element = document.querySelector('#df-c155ff53-7f6d-46d8-997f-713b5903bf14');\n",
              "          const dataTable =\n",
              "            await google.colab.kernel.invokeFunction('convertToInteractive',\n",
              "                                                     [key], {});\n",
              "          if (!dataTable) return;\n",
              "\n",
              "          const docLinkHtml = 'Like what you see? Visit the ' +\n",
              "            '<a target=\"_blank\" href=https://colab.research.google.com/notebooks/data_table.ipynb>data table notebook</a>'\n",
              "            + ' to learn more about interactive tables.';\n",
              "          element.innerHTML = '';\n",
              "          dataTable['output_type'] = 'display_data';\n",
              "          await google.colab.output.renderOutput(dataTable, element);\n",
              "          const docLink = document.createElement('div');\n",
              "          docLink.innerHTML = docLinkHtml;\n",
              "          element.appendChild(docLink);\n",
              "        }\n",
              "      </script>\n",
              "    </div>\n",
              "  </div>\n",
              "  "
            ]
          },
          "metadata": {},
          "execution_count": 108
        }
      ]
    },
    {
      "cell_type": "markdown",
      "source": [
        "**Inference:** Now we have a Zcore for all the students, so we know that we only have to keep the students which have z scores from -3 to 3 rest all are outliers."
      ],
      "metadata": {
        "id": "u6eYshbi6oGI"
      }
    },
    {
      "cell_type": "code",
      "source": [
        "df[df['cgpa_zscore'] > 3]"
      ],
      "metadata": {
        "colab": {
          "base_uri": "https://localhost:8080/",
          "height": 112
        },
        "id": "2FJSfws85Ag8",
        "outputId": "035a7975-bc3f-4a9e-baa5-3611a46de6ff"
      },
      "execution_count": 109,
      "outputs": [
        {
          "output_type": "execute_result",
          "data": {
            "text/plain": [
              "     cgpa  placement_exam_marks  placed  cgpa_zscore\n",
              "995  8.87                  44.0       1     3.099150\n",
              "996  9.12                  65.0       1     3.505062"
            ],
            "text/html": [
              "\n",
              "  <div id=\"df-fc1dbdac-ab49-4ed3-bf0c-9030d411feba\">\n",
              "    <div class=\"colab-df-container\">\n",
              "      <div>\n",
              "<style scoped>\n",
              "    .dataframe tbody tr th:only-of-type {\n",
              "        vertical-align: middle;\n",
              "    }\n",
              "\n",
              "    .dataframe tbody tr th {\n",
              "        vertical-align: top;\n",
              "    }\n",
              "\n",
              "    .dataframe thead th {\n",
              "        text-align: right;\n",
              "    }\n",
              "</style>\n",
              "<table border=\"1\" class=\"dataframe\">\n",
              "  <thead>\n",
              "    <tr style=\"text-align: right;\">\n",
              "      <th></th>\n",
              "      <th>cgpa</th>\n",
              "      <th>placement_exam_marks</th>\n",
              "      <th>placed</th>\n",
              "      <th>cgpa_zscore</th>\n",
              "    </tr>\n",
              "  </thead>\n",
              "  <tbody>\n",
              "    <tr>\n",
              "      <th>995</th>\n",
              "      <td>8.87</td>\n",
              "      <td>44.0</td>\n",
              "      <td>1</td>\n",
              "      <td>3.099150</td>\n",
              "    </tr>\n",
              "    <tr>\n",
              "      <th>996</th>\n",
              "      <td>9.12</td>\n",
              "      <td>65.0</td>\n",
              "      <td>1</td>\n",
              "      <td>3.505062</td>\n",
              "    </tr>\n",
              "  </tbody>\n",
              "</table>\n",
              "</div>\n",
              "      <button class=\"colab-df-convert\" onclick=\"convertToInteractive('df-fc1dbdac-ab49-4ed3-bf0c-9030d411feba')\"\n",
              "              title=\"Convert this dataframe to an interactive table.\"\n",
              "              style=\"display:none;\">\n",
              "        \n",
              "  <svg xmlns=\"http://www.w3.org/2000/svg\" height=\"24px\"viewBox=\"0 0 24 24\"\n",
              "       width=\"24px\">\n",
              "    <path d=\"M0 0h24v24H0V0z\" fill=\"none\"/>\n",
              "    <path d=\"M18.56 5.44l.94 2.06.94-2.06 2.06-.94-2.06-.94-.94-2.06-.94 2.06-2.06.94zm-11 1L8.5 8.5l.94-2.06 2.06-.94-2.06-.94L8.5 2.5l-.94 2.06-2.06.94zm10 10l.94 2.06.94-2.06 2.06-.94-2.06-.94-.94-2.06-.94 2.06-2.06.94z\"/><path d=\"M17.41 7.96l-1.37-1.37c-.4-.4-.92-.59-1.43-.59-.52 0-1.04.2-1.43.59L10.3 9.45l-7.72 7.72c-.78.78-.78 2.05 0 2.83L4 21.41c.39.39.9.59 1.41.59.51 0 1.02-.2 1.41-.59l7.78-7.78 2.81-2.81c.8-.78.8-2.07 0-2.86zM5.41 20L4 18.59l7.72-7.72 1.47 1.35L5.41 20z\"/>\n",
              "  </svg>\n",
              "      </button>\n",
              "      \n",
              "  <style>\n",
              "    .colab-df-container {\n",
              "      display:flex;\n",
              "      flex-wrap:wrap;\n",
              "      gap: 12px;\n",
              "    }\n",
              "\n",
              "    .colab-df-convert {\n",
              "      background-color: #E8F0FE;\n",
              "      border: none;\n",
              "      border-radius: 50%;\n",
              "      cursor: pointer;\n",
              "      display: none;\n",
              "      fill: #1967D2;\n",
              "      height: 32px;\n",
              "      padding: 0 0 0 0;\n",
              "      width: 32px;\n",
              "    }\n",
              "\n",
              "    .colab-df-convert:hover {\n",
              "      background-color: #E2EBFA;\n",
              "      box-shadow: 0px 1px 2px rgba(60, 64, 67, 0.3), 0px 1px 3px 1px rgba(60, 64, 67, 0.15);\n",
              "      fill: #174EA6;\n",
              "    }\n",
              "\n",
              "    [theme=dark] .colab-df-convert {\n",
              "      background-color: #3B4455;\n",
              "      fill: #D2E3FC;\n",
              "    }\n",
              "\n",
              "    [theme=dark] .colab-df-convert:hover {\n",
              "      background-color: #434B5C;\n",
              "      box-shadow: 0px 1px 3px 1px rgba(0, 0, 0, 0.15);\n",
              "      filter: drop-shadow(0px 1px 2px rgba(0, 0, 0, 0.3));\n",
              "      fill: #FFFFFF;\n",
              "    }\n",
              "  </style>\n",
              "\n",
              "      <script>\n",
              "        const buttonEl =\n",
              "          document.querySelector('#df-fc1dbdac-ab49-4ed3-bf0c-9030d411feba button.colab-df-convert');\n",
              "        buttonEl.style.display =\n",
              "          google.colab.kernel.accessAllowed ? 'block' : 'none';\n",
              "\n",
              "        async function convertToInteractive(key) {\n",
              "          const element = document.querySelector('#df-fc1dbdac-ab49-4ed3-bf0c-9030d411feba');\n",
              "          const dataTable =\n",
              "            await google.colab.kernel.invokeFunction('convertToInteractive',\n",
              "                                                     [key], {});\n",
              "          if (!dataTable) return;\n",
              "\n",
              "          const docLinkHtml = 'Like what you see? Visit the ' +\n",
              "            '<a target=\"_blank\" href=https://colab.research.google.com/notebooks/data_table.ipynb>data table notebook</a>'\n",
              "            + ' to learn more about interactive tables.';\n",
              "          element.innerHTML = '';\n",
              "          dataTable['output_type'] = 'display_data';\n",
              "          await google.colab.output.renderOutput(dataTable, element);\n",
              "          const docLink = document.createElement('div');\n",
              "          docLink.innerHTML = docLinkHtml;\n",
              "          element.appendChild(docLink);\n",
              "        }\n",
              "      </script>\n",
              "    </div>\n",
              "  </div>\n",
              "  "
            ]
          },
          "metadata": {},
          "execution_count": 109
        }
      ]
    },
    {
      "cell_type": "code",
      "source": [
        "df[df['cgpa_zscore'] < -3]"
      ],
      "metadata": {
        "colab": {
          "base_uri": "https://localhost:8080/",
          "height": 143
        },
        "id": "IEW_9tmZ5AlV",
        "outputId": "631453c3-b59f-4af5-9e70-cdbe4ce34481"
      },
      "execution_count": 110,
      "outputs": [
        {
          "output_type": "execute_result",
          "data": {
            "text/plain": [
              "     cgpa  placement_exam_marks  placed  cgpa_zscore\n",
              "485  4.92                  44.0       1    -3.314251\n",
              "997  4.89                  34.0       0    -3.362960\n",
              "999  4.90                  10.0       1    -3.346724"
            ],
            "text/html": [
              "\n",
              "  <div id=\"df-a97319f8-a71c-4766-be83-d5b80b06ce12\">\n",
              "    <div class=\"colab-df-container\">\n",
              "      <div>\n",
              "<style scoped>\n",
              "    .dataframe tbody tr th:only-of-type {\n",
              "        vertical-align: middle;\n",
              "    }\n",
              "\n",
              "    .dataframe tbody tr th {\n",
              "        vertical-align: top;\n",
              "    }\n",
              "\n",
              "    .dataframe thead th {\n",
              "        text-align: right;\n",
              "    }\n",
              "</style>\n",
              "<table border=\"1\" class=\"dataframe\">\n",
              "  <thead>\n",
              "    <tr style=\"text-align: right;\">\n",
              "      <th></th>\n",
              "      <th>cgpa</th>\n",
              "      <th>placement_exam_marks</th>\n",
              "      <th>placed</th>\n",
              "      <th>cgpa_zscore</th>\n",
              "    </tr>\n",
              "  </thead>\n",
              "  <tbody>\n",
              "    <tr>\n",
              "      <th>485</th>\n",
              "      <td>4.92</td>\n",
              "      <td>44.0</td>\n",
              "      <td>1</td>\n",
              "      <td>-3.314251</td>\n",
              "    </tr>\n",
              "    <tr>\n",
              "      <th>997</th>\n",
              "      <td>4.89</td>\n",
              "      <td>34.0</td>\n",
              "      <td>0</td>\n",
              "      <td>-3.362960</td>\n",
              "    </tr>\n",
              "    <tr>\n",
              "      <th>999</th>\n",
              "      <td>4.90</td>\n",
              "      <td>10.0</td>\n",
              "      <td>1</td>\n",
              "      <td>-3.346724</td>\n",
              "    </tr>\n",
              "  </tbody>\n",
              "</table>\n",
              "</div>\n",
              "      <button class=\"colab-df-convert\" onclick=\"convertToInteractive('df-a97319f8-a71c-4766-be83-d5b80b06ce12')\"\n",
              "              title=\"Convert this dataframe to an interactive table.\"\n",
              "              style=\"display:none;\">\n",
              "        \n",
              "  <svg xmlns=\"http://www.w3.org/2000/svg\" height=\"24px\"viewBox=\"0 0 24 24\"\n",
              "       width=\"24px\">\n",
              "    <path d=\"M0 0h24v24H0V0z\" fill=\"none\"/>\n",
              "    <path d=\"M18.56 5.44l.94 2.06.94-2.06 2.06-.94-2.06-.94-.94-2.06-.94 2.06-2.06.94zm-11 1L8.5 8.5l.94-2.06 2.06-.94-2.06-.94L8.5 2.5l-.94 2.06-2.06.94zm10 10l.94 2.06.94-2.06 2.06-.94-2.06-.94-.94-2.06-.94 2.06-2.06.94z\"/><path d=\"M17.41 7.96l-1.37-1.37c-.4-.4-.92-.59-1.43-.59-.52 0-1.04.2-1.43.59L10.3 9.45l-7.72 7.72c-.78.78-.78 2.05 0 2.83L4 21.41c.39.39.9.59 1.41.59.51 0 1.02-.2 1.41-.59l7.78-7.78 2.81-2.81c.8-.78.8-2.07 0-2.86zM5.41 20L4 18.59l7.72-7.72 1.47 1.35L5.41 20z\"/>\n",
              "  </svg>\n",
              "      </button>\n",
              "      \n",
              "  <style>\n",
              "    .colab-df-container {\n",
              "      display:flex;\n",
              "      flex-wrap:wrap;\n",
              "      gap: 12px;\n",
              "    }\n",
              "\n",
              "    .colab-df-convert {\n",
              "      background-color: #E8F0FE;\n",
              "      border: none;\n",
              "      border-radius: 50%;\n",
              "      cursor: pointer;\n",
              "      display: none;\n",
              "      fill: #1967D2;\n",
              "      height: 32px;\n",
              "      padding: 0 0 0 0;\n",
              "      width: 32px;\n",
              "    }\n",
              "\n",
              "    .colab-df-convert:hover {\n",
              "      background-color: #E2EBFA;\n",
              "      box-shadow: 0px 1px 2px rgba(60, 64, 67, 0.3), 0px 1px 3px 1px rgba(60, 64, 67, 0.15);\n",
              "      fill: #174EA6;\n",
              "    }\n",
              "\n",
              "    [theme=dark] .colab-df-convert {\n",
              "      background-color: #3B4455;\n",
              "      fill: #D2E3FC;\n",
              "    }\n",
              "\n",
              "    [theme=dark] .colab-df-convert:hover {\n",
              "      background-color: #434B5C;\n",
              "      box-shadow: 0px 1px 3px 1px rgba(0, 0, 0, 0.15);\n",
              "      filter: drop-shadow(0px 1px 2px rgba(0, 0, 0, 0.3));\n",
              "      fill: #FFFFFF;\n",
              "    }\n",
              "  </style>\n",
              "\n",
              "      <script>\n",
              "        const buttonEl =\n",
              "          document.querySelector('#df-a97319f8-a71c-4766-be83-d5b80b06ce12 button.colab-df-convert');\n",
              "        buttonEl.style.display =\n",
              "          google.colab.kernel.accessAllowed ? 'block' : 'none';\n",
              "\n",
              "        async function convertToInteractive(key) {\n",
              "          const element = document.querySelector('#df-a97319f8-a71c-4766-be83-d5b80b06ce12');\n",
              "          const dataTable =\n",
              "            await google.colab.kernel.invokeFunction('convertToInteractive',\n",
              "                                                     [key], {});\n",
              "          if (!dataTable) return;\n",
              "\n",
              "          const docLinkHtml = 'Like what you see? Visit the ' +\n",
              "            '<a target=\"_blank\" href=https://colab.research.google.com/notebooks/data_table.ipynb>data table notebook</a>'\n",
              "            + ' to learn more about interactive tables.';\n",
              "          element.innerHTML = '';\n",
              "          dataTable['output_type'] = 'display_data';\n",
              "          await google.colab.output.renderOutput(dataTable, element);\n",
              "          const docLink = document.createElement('div');\n",
              "          docLink.innerHTML = docLinkHtml;\n",
              "          element.appendChild(docLink);\n",
              "        }\n",
              "      </script>\n",
              "    </div>\n",
              "  </div>\n",
              "  "
            ]
          },
          "metadata": {},
          "execution_count": 110
        }
      ]
    },
    {
      "cell_type": "code",
      "source": [
        "df[(df['cgpa_zscore'] > 3) | (df['cgpa_zscore'] < -3)]"
      ],
      "metadata": {
        "colab": {
          "base_uri": "https://localhost:8080/",
          "height": 206
        },
        "id": "1Q8pOq5q7D11",
        "outputId": "cb2cd881-d657-43ef-8b25-160b63c7498e"
      },
      "execution_count": 111,
      "outputs": [
        {
          "output_type": "execute_result",
          "data": {
            "text/plain": [
              "     cgpa  placement_exam_marks  placed  cgpa_zscore\n",
              "485  4.92                  44.0       1    -3.314251\n",
              "995  8.87                  44.0       1     3.099150\n",
              "996  9.12                  65.0       1     3.505062\n",
              "997  4.89                  34.0       0    -3.362960\n",
              "999  4.90                  10.0       1    -3.346724"
            ],
            "text/html": [
              "\n",
              "  <div id=\"df-4beae3bb-ba1e-4908-9e8c-7f3135ec295c\">\n",
              "    <div class=\"colab-df-container\">\n",
              "      <div>\n",
              "<style scoped>\n",
              "    .dataframe tbody tr th:only-of-type {\n",
              "        vertical-align: middle;\n",
              "    }\n",
              "\n",
              "    .dataframe tbody tr th {\n",
              "        vertical-align: top;\n",
              "    }\n",
              "\n",
              "    .dataframe thead th {\n",
              "        text-align: right;\n",
              "    }\n",
              "</style>\n",
              "<table border=\"1\" class=\"dataframe\">\n",
              "  <thead>\n",
              "    <tr style=\"text-align: right;\">\n",
              "      <th></th>\n",
              "      <th>cgpa</th>\n",
              "      <th>placement_exam_marks</th>\n",
              "      <th>placed</th>\n",
              "      <th>cgpa_zscore</th>\n",
              "    </tr>\n",
              "  </thead>\n",
              "  <tbody>\n",
              "    <tr>\n",
              "      <th>485</th>\n",
              "      <td>4.92</td>\n",
              "      <td>44.0</td>\n",
              "      <td>1</td>\n",
              "      <td>-3.314251</td>\n",
              "    </tr>\n",
              "    <tr>\n",
              "      <th>995</th>\n",
              "      <td>8.87</td>\n",
              "      <td>44.0</td>\n",
              "      <td>1</td>\n",
              "      <td>3.099150</td>\n",
              "    </tr>\n",
              "    <tr>\n",
              "      <th>996</th>\n",
              "      <td>9.12</td>\n",
              "      <td>65.0</td>\n",
              "      <td>1</td>\n",
              "      <td>3.505062</td>\n",
              "    </tr>\n",
              "    <tr>\n",
              "      <th>997</th>\n",
              "      <td>4.89</td>\n",
              "      <td>34.0</td>\n",
              "      <td>0</td>\n",
              "      <td>-3.362960</td>\n",
              "    </tr>\n",
              "    <tr>\n",
              "      <th>999</th>\n",
              "      <td>4.90</td>\n",
              "      <td>10.0</td>\n",
              "      <td>1</td>\n",
              "      <td>-3.346724</td>\n",
              "    </tr>\n",
              "  </tbody>\n",
              "</table>\n",
              "</div>\n",
              "      <button class=\"colab-df-convert\" onclick=\"convertToInteractive('df-4beae3bb-ba1e-4908-9e8c-7f3135ec295c')\"\n",
              "              title=\"Convert this dataframe to an interactive table.\"\n",
              "              style=\"display:none;\">\n",
              "        \n",
              "  <svg xmlns=\"http://www.w3.org/2000/svg\" height=\"24px\"viewBox=\"0 0 24 24\"\n",
              "       width=\"24px\">\n",
              "    <path d=\"M0 0h24v24H0V0z\" fill=\"none\"/>\n",
              "    <path d=\"M18.56 5.44l.94 2.06.94-2.06 2.06-.94-2.06-.94-.94-2.06-.94 2.06-2.06.94zm-11 1L8.5 8.5l.94-2.06 2.06-.94-2.06-.94L8.5 2.5l-.94 2.06-2.06.94zm10 10l.94 2.06.94-2.06 2.06-.94-2.06-.94-.94-2.06-.94 2.06-2.06.94z\"/><path d=\"M17.41 7.96l-1.37-1.37c-.4-.4-.92-.59-1.43-.59-.52 0-1.04.2-1.43.59L10.3 9.45l-7.72 7.72c-.78.78-.78 2.05 0 2.83L4 21.41c.39.39.9.59 1.41.59.51 0 1.02-.2 1.41-.59l7.78-7.78 2.81-2.81c.8-.78.8-2.07 0-2.86zM5.41 20L4 18.59l7.72-7.72 1.47 1.35L5.41 20z\"/>\n",
              "  </svg>\n",
              "      </button>\n",
              "      \n",
              "  <style>\n",
              "    .colab-df-container {\n",
              "      display:flex;\n",
              "      flex-wrap:wrap;\n",
              "      gap: 12px;\n",
              "    }\n",
              "\n",
              "    .colab-df-convert {\n",
              "      background-color: #E8F0FE;\n",
              "      border: none;\n",
              "      border-radius: 50%;\n",
              "      cursor: pointer;\n",
              "      display: none;\n",
              "      fill: #1967D2;\n",
              "      height: 32px;\n",
              "      padding: 0 0 0 0;\n",
              "      width: 32px;\n",
              "    }\n",
              "\n",
              "    .colab-df-convert:hover {\n",
              "      background-color: #E2EBFA;\n",
              "      box-shadow: 0px 1px 2px rgba(60, 64, 67, 0.3), 0px 1px 3px 1px rgba(60, 64, 67, 0.15);\n",
              "      fill: #174EA6;\n",
              "    }\n",
              "\n",
              "    [theme=dark] .colab-df-convert {\n",
              "      background-color: #3B4455;\n",
              "      fill: #D2E3FC;\n",
              "    }\n",
              "\n",
              "    [theme=dark] .colab-df-convert:hover {\n",
              "      background-color: #434B5C;\n",
              "      box-shadow: 0px 1px 3px 1px rgba(0, 0, 0, 0.15);\n",
              "      filter: drop-shadow(0px 1px 2px rgba(0, 0, 0, 0.3));\n",
              "      fill: #FFFFFF;\n",
              "    }\n",
              "  </style>\n",
              "\n",
              "      <script>\n",
              "        const buttonEl =\n",
              "          document.querySelector('#df-4beae3bb-ba1e-4908-9e8c-7f3135ec295c button.colab-df-convert');\n",
              "        buttonEl.style.display =\n",
              "          google.colab.kernel.accessAllowed ? 'block' : 'none';\n",
              "\n",
              "        async function convertToInteractive(key) {\n",
              "          const element = document.querySelector('#df-4beae3bb-ba1e-4908-9e8c-7f3135ec295c');\n",
              "          const dataTable =\n",
              "            await google.colab.kernel.invokeFunction('convertToInteractive',\n",
              "                                                     [key], {});\n",
              "          if (!dataTable) return;\n",
              "\n",
              "          const docLinkHtml = 'Like what you see? Visit the ' +\n",
              "            '<a target=\"_blank\" href=https://colab.research.google.com/notebooks/data_table.ipynb>data table notebook</a>'\n",
              "            + ' to learn more about interactive tables.';\n",
              "          element.innerHTML = '';\n",
              "          dataTable['output_type'] = 'display_data';\n",
              "          await google.colab.output.renderOutput(dataTable, element);\n",
              "          const docLink = document.createElement('div');\n",
              "          docLink.innerHTML = docLinkHtml;\n",
              "          element.appendChild(docLink);\n",
              "        }\n",
              "      </script>\n",
              "    </div>\n",
              "  </div>\n",
              "  "
            ]
          },
          "metadata": {},
          "execution_count": 111
        }
      ]
    },
    {
      "cell_type": "code",
      "source": [
        "new_df = df[(df['cgpa'] < 8.80) & (df['cgpa'] > 5.11)]\n",
        "new_df"
      ],
      "metadata": {
        "colab": {
          "base_uri": "https://localhost:8080/",
          "height": 424
        },
        "id": "sOBacKU-8wCK",
        "outputId": "1bcbd3f1-41f2-4747-a5f9-c12399ebea99"
      },
      "execution_count": 112,
      "outputs": [
        {
          "output_type": "execute_result",
          "data": {
            "text/plain": [
              "     cgpa  placement_exam_marks  placed  cgpa_zscore\n",
              "0    7.19                  26.0       1     0.371425\n",
              "1    7.46                  38.0       1     0.809810\n",
              "2    7.54                  40.0       1     0.939701\n",
              "3    6.42                   8.0       1    -0.878782\n",
              "4    7.23                  17.0       0     0.436371\n",
              "..    ...                   ...     ...          ...\n",
              "991  7.04                  57.0       0     0.127878\n",
              "992  6.26                  12.0       0    -1.138565\n",
              "993  6.73                  21.0       1    -0.375452\n",
              "994  6.48                  63.0       0    -0.781363\n",
              "998  8.62                  46.0       1     2.693239\n",
              "\n",
              "[995 rows x 4 columns]"
            ],
            "text/html": [
              "\n",
              "  <div id=\"df-11a203d8-f80c-455b-ac3f-c6fd41862087\">\n",
              "    <div class=\"colab-df-container\">\n",
              "      <div>\n",
              "<style scoped>\n",
              "    .dataframe tbody tr th:only-of-type {\n",
              "        vertical-align: middle;\n",
              "    }\n",
              "\n",
              "    .dataframe tbody tr th {\n",
              "        vertical-align: top;\n",
              "    }\n",
              "\n",
              "    .dataframe thead th {\n",
              "        text-align: right;\n",
              "    }\n",
              "</style>\n",
              "<table border=\"1\" class=\"dataframe\">\n",
              "  <thead>\n",
              "    <tr style=\"text-align: right;\">\n",
              "      <th></th>\n",
              "      <th>cgpa</th>\n",
              "      <th>placement_exam_marks</th>\n",
              "      <th>placed</th>\n",
              "      <th>cgpa_zscore</th>\n",
              "    </tr>\n",
              "  </thead>\n",
              "  <tbody>\n",
              "    <tr>\n",
              "      <th>0</th>\n",
              "      <td>7.19</td>\n",
              "      <td>26.0</td>\n",
              "      <td>1</td>\n",
              "      <td>0.371425</td>\n",
              "    </tr>\n",
              "    <tr>\n",
              "      <th>1</th>\n",
              "      <td>7.46</td>\n",
              "      <td>38.0</td>\n",
              "      <td>1</td>\n",
              "      <td>0.809810</td>\n",
              "    </tr>\n",
              "    <tr>\n",
              "      <th>2</th>\n",
              "      <td>7.54</td>\n",
              "      <td>40.0</td>\n",
              "      <td>1</td>\n",
              "      <td>0.939701</td>\n",
              "    </tr>\n",
              "    <tr>\n",
              "      <th>3</th>\n",
              "      <td>6.42</td>\n",
              "      <td>8.0</td>\n",
              "      <td>1</td>\n",
              "      <td>-0.878782</td>\n",
              "    </tr>\n",
              "    <tr>\n",
              "      <th>4</th>\n",
              "      <td>7.23</td>\n",
              "      <td>17.0</td>\n",
              "      <td>0</td>\n",
              "      <td>0.436371</td>\n",
              "    </tr>\n",
              "    <tr>\n",
              "      <th>...</th>\n",
              "      <td>...</td>\n",
              "      <td>...</td>\n",
              "      <td>...</td>\n",
              "      <td>...</td>\n",
              "    </tr>\n",
              "    <tr>\n",
              "      <th>991</th>\n",
              "      <td>7.04</td>\n",
              "      <td>57.0</td>\n",
              "      <td>0</td>\n",
              "      <td>0.127878</td>\n",
              "    </tr>\n",
              "    <tr>\n",
              "      <th>992</th>\n",
              "      <td>6.26</td>\n",
              "      <td>12.0</td>\n",
              "      <td>0</td>\n",
              "      <td>-1.138565</td>\n",
              "    </tr>\n",
              "    <tr>\n",
              "      <th>993</th>\n",
              "      <td>6.73</td>\n",
              "      <td>21.0</td>\n",
              "      <td>1</td>\n",
              "      <td>-0.375452</td>\n",
              "    </tr>\n",
              "    <tr>\n",
              "      <th>994</th>\n",
              "      <td>6.48</td>\n",
              "      <td>63.0</td>\n",
              "      <td>0</td>\n",
              "      <td>-0.781363</td>\n",
              "    </tr>\n",
              "    <tr>\n",
              "      <th>998</th>\n",
              "      <td>8.62</td>\n",
              "      <td>46.0</td>\n",
              "      <td>1</td>\n",
              "      <td>2.693239</td>\n",
              "    </tr>\n",
              "  </tbody>\n",
              "</table>\n",
              "<p>995 rows × 4 columns</p>\n",
              "</div>\n",
              "      <button class=\"colab-df-convert\" onclick=\"convertToInteractive('df-11a203d8-f80c-455b-ac3f-c6fd41862087')\"\n",
              "              title=\"Convert this dataframe to an interactive table.\"\n",
              "              style=\"display:none;\">\n",
              "        \n",
              "  <svg xmlns=\"http://www.w3.org/2000/svg\" height=\"24px\"viewBox=\"0 0 24 24\"\n",
              "       width=\"24px\">\n",
              "    <path d=\"M0 0h24v24H0V0z\" fill=\"none\"/>\n",
              "    <path d=\"M18.56 5.44l.94 2.06.94-2.06 2.06-.94-2.06-.94-.94-2.06-.94 2.06-2.06.94zm-11 1L8.5 8.5l.94-2.06 2.06-.94-2.06-.94L8.5 2.5l-.94 2.06-2.06.94zm10 10l.94 2.06.94-2.06 2.06-.94-2.06-.94-.94-2.06-.94 2.06-2.06.94z\"/><path d=\"M17.41 7.96l-1.37-1.37c-.4-.4-.92-.59-1.43-.59-.52 0-1.04.2-1.43.59L10.3 9.45l-7.72 7.72c-.78.78-.78 2.05 0 2.83L4 21.41c.39.39.9.59 1.41.59.51 0 1.02-.2 1.41-.59l7.78-7.78 2.81-2.81c.8-.78.8-2.07 0-2.86zM5.41 20L4 18.59l7.72-7.72 1.47 1.35L5.41 20z\"/>\n",
              "  </svg>\n",
              "      </button>\n",
              "      \n",
              "  <style>\n",
              "    .colab-df-container {\n",
              "      display:flex;\n",
              "      flex-wrap:wrap;\n",
              "      gap: 12px;\n",
              "    }\n",
              "\n",
              "    .colab-df-convert {\n",
              "      background-color: #E8F0FE;\n",
              "      border: none;\n",
              "      border-radius: 50%;\n",
              "      cursor: pointer;\n",
              "      display: none;\n",
              "      fill: #1967D2;\n",
              "      height: 32px;\n",
              "      padding: 0 0 0 0;\n",
              "      width: 32px;\n",
              "    }\n",
              "\n",
              "    .colab-df-convert:hover {\n",
              "      background-color: #E2EBFA;\n",
              "      box-shadow: 0px 1px 2px rgba(60, 64, 67, 0.3), 0px 1px 3px 1px rgba(60, 64, 67, 0.15);\n",
              "      fill: #174EA6;\n",
              "    }\n",
              "\n",
              "    [theme=dark] .colab-df-convert {\n",
              "      background-color: #3B4455;\n",
              "      fill: #D2E3FC;\n",
              "    }\n",
              "\n",
              "    [theme=dark] .colab-df-convert:hover {\n",
              "      background-color: #434B5C;\n",
              "      box-shadow: 0px 1px 3px 1px rgba(0, 0, 0, 0.15);\n",
              "      filter: drop-shadow(0px 1px 2px rgba(0, 0, 0, 0.3));\n",
              "      fill: #FFFFFF;\n",
              "    }\n",
              "  </style>\n",
              "\n",
              "      <script>\n",
              "        const buttonEl =\n",
              "          document.querySelector('#df-11a203d8-f80c-455b-ac3f-c6fd41862087 button.colab-df-convert');\n",
              "        buttonEl.style.display =\n",
              "          google.colab.kernel.accessAllowed ? 'block' : 'none';\n",
              "\n",
              "        async function convertToInteractive(key) {\n",
              "          const element = document.querySelector('#df-11a203d8-f80c-455b-ac3f-c6fd41862087');\n",
              "          const dataTable =\n",
              "            await google.colab.kernel.invokeFunction('convertToInteractive',\n",
              "                                                     [key], {});\n",
              "          if (!dataTable) return;\n",
              "\n",
              "          const docLinkHtml = 'Like what you see? Visit the ' +\n",
              "            '<a target=\"_blank\" href=https://colab.research.google.com/notebooks/data_table.ipynb>data table notebook</a>'\n",
              "            + ' to learn more about interactive tables.';\n",
              "          element.innerHTML = '';\n",
              "          dataTable['output_type'] = 'display_data';\n",
              "          await google.colab.output.renderOutput(dataTable, element);\n",
              "          const docLink = document.createElement('div');\n",
              "          docLink.innerHTML = docLinkHtml;\n",
              "          element.appendChild(docLink);\n",
              "        }\n",
              "      </script>\n",
              "    </div>\n",
              "  </div>\n",
              "  "
            ]
          },
          "metadata": {},
          "execution_count": 112
        }
      ]
    },
    {
      "cell_type": "markdown",
      "source": [
        "# **Capping** the outliers"
      ],
      "metadata": {
        "id": "n01JSuX09Hr0"
      }
    },
    {
      "cell_type": "code",
      "source": [
        "upper_limit = df['cgpa'].mean() + 3*df['cgpa'].std()\n",
        "lower_limit = df['cgpa'].mean() - 3*df['cgpa'].std()"
      ],
      "metadata": {
        "id": "z7fCpK6X9Ctf"
      },
      "execution_count": 113,
      "outputs": []
    },
    {
      "cell_type": "code",
      "source": [
        "df['cgpa'] = np.where(\n",
        "    df['cgpa'] > upper_limit,\n",
        "    upper_limit,\n",
        "    np.where(\n",
        "        df['cgpa'] < lower_limit,\n",
        "        lower_limit,\n",
        "        df['cgpa']\n",
        "    )\n",
        ")"
      ],
      "metadata": {
        "id": "513pyANM9ZIf"
      },
      "execution_count": 114,
      "outputs": []
    },
    {
      "cell_type": "code",
      "source": [
        "df.shape"
      ],
      "metadata": {
        "colab": {
          "base_uri": "https://localhost:8080/"
        },
        "id": "dm5ThB_l9sLT",
        "outputId": "70b38f6d-d8db-4ea2-e2e4-84ff01fda51c"
      },
      "execution_count": 115,
      "outputs": [
        {
          "output_type": "execute_result",
          "data": {
            "text/plain": [
              "(1000, 4)"
            ]
          },
          "metadata": {},
          "execution_count": 115
        }
      ]
    },
    {
      "cell_type": "code",
      "source": [
        "df['cgpa'].describe()"
      ],
      "metadata": {
        "colab": {
          "base_uri": "https://localhost:8080/"
        },
        "id": "2QC7mplO9sy-",
        "outputId": "a29aa1b2-1d77-4fdc-a89a-1d32a11c92f9"
      },
      "execution_count": 116,
      "outputs": [
        {
          "output_type": "execute_result",
          "data": {
            "text/plain": [
              "count    1000.000000\n",
              "mean        6.961499\n",
              "std         0.612688\n",
              "min         5.113546\n",
              "25%         6.550000\n",
              "50%         6.960000\n",
              "75%         7.370000\n",
              "max         8.808934\n",
              "Name: cgpa, dtype: float64"
            ]
          },
          "metadata": {},
          "execution_count": 116
        }
      ]
    },
    {
      "cell_type": "markdown",
      "source": [
        "##2. Outlier Detection and Removal using Boxplot and IQR for Skewed Distribution"
      ],
      "metadata": {
        "id": "JIdPPpUs-Hvb"
      }
    },
    {
      "cell_type": "markdown",
      "source": [
        "**What is a BoxPlot?**\n",
        "\n",
        "Box plots are charts showing the distribution of data points across a selected measure. These charts display ranges within variables measured. This includes the outliers, the median, the mode, and where the majority of the data points lie in the “box”.\n",
        "\n",
        "*   We can plot a Boxplot for any numerical column.\n",
        "*   We have percentiles in box plot i.e example the 100 percentile value is 89 that means all the other values are less than 89.\n",
        "\n"
      ],
      "metadata": {
        "id": "vULlYicg-Y_7"
      }
    },
    {
      "cell_type": "markdown",
      "source": [
        "**Boxplot for outliers:**\n",
        "\n",
        "![image.png](data:image/png;base64,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)\n",
        "\n",
        "Here Q1 is 25 percentile and Q3 is 75 percentile.\n",
        "\n",
        "What is IQR?\n",
        "\n",
        "IQR is the difference between Q3 and Q1. To calculate the max we have Q3 + 1.5*IQR\n",
        "\n",
        "and to calculate the min we have Q1 - 1.5*IQR. These formulas are known as IQR Proximity Rule.\n",
        "\n",
        "All the values outside min and max can be considered as outliers. "
      ],
      "metadata": {
        "id": "Nf6nn9Pe-ZV6"
      }
    },
    {
      "cell_type": "markdown",
      "source": [
        "## Code"
      ],
      "metadata": {
        "id": "SKlke4jZ-Zrq"
      }
    },
    {
      "cell_type": "code",
      "source": [
        "df = pd.read_csv('placement.csv')"
      ],
      "metadata": {
        "id": "WmXbfyHiA7Rs"
      },
      "execution_count": 119,
      "outputs": []
    },
    {
      "cell_type": "code",
      "source": [
        "df.shape"
      ],
      "metadata": {
        "colab": {
          "base_uri": "https://localhost:8080/"
        },
        "id": "3c4UUIRTA1hy",
        "outputId": "cdd33ca4-1f5c-4236-d2ab-801f247e14dd"
      },
      "execution_count": 120,
      "outputs": [
        {
          "output_type": "execute_result",
          "data": {
            "text/plain": [
              "(1000, 3)"
            ]
          },
          "metadata": {},
          "execution_count": 120
        }
      ]
    },
    {
      "cell_type": "code",
      "source": [
        "df.sample(10)"
      ],
      "metadata": {
        "colab": {
          "base_uri": "https://localhost:8080/",
          "height": 363
        },
        "id": "1WLa4mjKBA9M",
        "outputId": "a21e76a2-45d2-4ac7-f6fa-a97e3f54658b"
      },
      "execution_count": 121,
      "outputs": [
        {
          "output_type": "execute_result",
          "data": {
            "text/plain": [
              "     cgpa  placement_exam_marks  placed\n",
              "51   6.24                  28.0       1\n",
              "996  9.12                  65.0       1\n",
              "362  7.25                  21.0       1\n",
              "626  7.63                  19.0       1\n",
              "875  5.73                  16.0       1\n",
              "962  7.09                  46.0       1\n",
              "420  7.59                  49.0       0\n",
              "733  7.07                  10.0       0\n",
              "431  7.64                  21.0       0\n",
              "115  7.28                  37.0       0"
            ],
            "text/html": [
              "\n",
              "  <div id=\"df-a26f5f5f-eca5-44e2-8616-b4220e19bbd5\">\n",
              "    <div class=\"colab-df-container\">\n",
              "      <div>\n",
              "<style scoped>\n",
              "    .dataframe tbody tr th:only-of-type {\n",
              "        vertical-align: middle;\n",
              "    }\n",
              "\n",
              "    .dataframe tbody tr th {\n",
              "        vertical-align: top;\n",
              "    }\n",
              "\n",
              "    .dataframe thead th {\n",
              "        text-align: right;\n",
              "    }\n",
              "</style>\n",
              "<table border=\"1\" class=\"dataframe\">\n",
              "  <thead>\n",
              "    <tr style=\"text-align: right;\">\n",
              "      <th></th>\n",
              "      <th>cgpa</th>\n",
              "      <th>placement_exam_marks</th>\n",
              "      <th>placed</th>\n",
              "    </tr>\n",
              "  </thead>\n",
              "  <tbody>\n",
              "    <tr>\n",
              "      <th>51</th>\n",
              "      <td>6.24</td>\n",
              "      <td>28.0</td>\n",
              "      <td>1</td>\n",
              "    </tr>\n",
              "    <tr>\n",
              "      <th>996</th>\n",
              "      <td>9.12</td>\n",
              "      <td>65.0</td>\n",
              "      <td>1</td>\n",
              "    </tr>\n",
              "    <tr>\n",
              "      <th>362</th>\n",
              "      <td>7.25</td>\n",
              "      <td>21.0</td>\n",
              "      <td>1</td>\n",
              "    </tr>\n",
              "    <tr>\n",
              "      <th>626</th>\n",
              "      <td>7.63</td>\n",
              "      <td>19.0</td>\n",
              "      <td>1</td>\n",
              "    </tr>\n",
              "    <tr>\n",
              "      <th>875</th>\n",
              "      <td>5.73</td>\n",
              "      <td>16.0</td>\n",
              "      <td>1</td>\n",
              "    </tr>\n",
              "    <tr>\n",
              "      <th>962</th>\n",
              "      <td>7.09</td>\n",
              "      <td>46.0</td>\n",
              "      <td>1</td>\n",
              "    </tr>\n",
              "    <tr>\n",
              "      <th>420</th>\n",
              "      <td>7.59</td>\n",
              "      <td>49.0</td>\n",
              "      <td>0</td>\n",
              "    </tr>\n",
              "    <tr>\n",
              "      <th>733</th>\n",
              "      <td>7.07</td>\n",
              "      <td>10.0</td>\n",
              "      <td>0</td>\n",
              "    </tr>\n",
              "    <tr>\n",
              "      <th>431</th>\n",
              "      <td>7.64</td>\n",
              "      <td>21.0</td>\n",
              "      <td>0</td>\n",
              "    </tr>\n",
              "    <tr>\n",
              "      <th>115</th>\n",
              "      <td>7.28</td>\n",
              "      <td>37.0</td>\n",
              "      <td>0</td>\n",
              "    </tr>\n",
              "  </tbody>\n",
              "</table>\n",
              "</div>\n",
              "      <button class=\"colab-df-convert\" onclick=\"convertToInteractive('df-a26f5f5f-eca5-44e2-8616-b4220e19bbd5')\"\n",
              "              title=\"Convert this dataframe to an interactive table.\"\n",
              "              style=\"display:none;\">\n",
              "        \n",
              "  <svg xmlns=\"http://www.w3.org/2000/svg\" height=\"24px\"viewBox=\"0 0 24 24\"\n",
              "       width=\"24px\">\n",
              "    <path d=\"M0 0h24v24H0V0z\" fill=\"none\"/>\n",
              "    <path d=\"M18.56 5.44l.94 2.06.94-2.06 2.06-.94-2.06-.94-.94-2.06-.94 2.06-2.06.94zm-11 1L8.5 8.5l.94-2.06 2.06-.94-2.06-.94L8.5 2.5l-.94 2.06-2.06.94zm10 10l.94 2.06.94-2.06 2.06-.94-2.06-.94-.94-2.06-.94 2.06-2.06.94z\"/><path d=\"M17.41 7.96l-1.37-1.37c-.4-.4-.92-.59-1.43-.59-.52 0-1.04.2-1.43.59L10.3 9.45l-7.72 7.72c-.78.78-.78 2.05 0 2.83L4 21.41c.39.39.9.59 1.41.59.51 0 1.02-.2 1.41-.59l7.78-7.78 2.81-2.81c.8-.78.8-2.07 0-2.86zM5.41 20L4 18.59l7.72-7.72 1.47 1.35L5.41 20z\"/>\n",
              "  </svg>\n",
              "      </button>\n",
              "      \n",
              "  <style>\n",
              "    .colab-df-container {\n",
              "      display:flex;\n",
              "      flex-wrap:wrap;\n",
              "      gap: 12px;\n",
              "    }\n",
              "\n",
              "    .colab-df-convert {\n",
              "      background-color: #E8F0FE;\n",
              "      border: none;\n",
              "      border-radius: 50%;\n",
              "      cursor: pointer;\n",
              "      display: none;\n",
              "      fill: #1967D2;\n",
              "      height: 32px;\n",
              "      padding: 0 0 0 0;\n",
              "      width: 32px;\n",
              "    }\n",
              "\n",
              "    .colab-df-convert:hover {\n",
              "      background-color: #E2EBFA;\n",
              "      box-shadow: 0px 1px 2px rgba(60, 64, 67, 0.3), 0px 1px 3px 1px rgba(60, 64, 67, 0.15);\n",
              "      fill: #174EA6;\n",
              "    }\n",
              "\n",
              "    [theme=dark] .colab-df-convert {\n",
              "      background-color: #3B4455;\n",
              "      fill: #D2E3FC;\n",
              "    }\n",
              "\n",
              "    [theme=dark] .colab-df-convert:hover {\n",
              "      background-color: #434B5C;\n",
              "      box-shadow: 0px 1px 3px 1px rgba(0, 0, 0, 0.15);\n",
              "      filter: drop-shadow(0px 1px 2px rgba(0, 0, 0, 0.3));\n",
              "      fill: #FFFFFF;\n",
              "    }\n",
              "  </style>\n",
              "\n",
              "      <script>\n",
              "        const buttonEl =\n",
              "          document.querySelector('#df-a26f5f5f-eca5-44e2-8616-b4220e19bbd5 button.colab-df-convert');\n",
              "        buttonEl.style.display =\n",
              "          google.colab.kernel.accessAllowed ? 'block' : 'none';\n",
              "\n",
              "        async function convertToInteractive(key) {\n",
              "          const element = document.querySelector('#df-a26f5f5f-eca5-44e2-8616-b4220e19bbd5');\n",
              "          const dataTable =\n",
              "            await google.colab.kernel.invokeFunction('convertToInteractive',\n",
              "                                                     [key], {});\n",
              "          if (!dataTable) return;\n",
              "\n",
              "          const docLinkHtml = 'Like what you see? Visit the ' +\n",
              "            '<a target=\"_blank\" href=https://colab.research.google.com/notebooks/data_table.ipynb>data table notebook</a>'\n",
              "            + ' to learn more about interactive tables.';\n",
              "          element.innerHTML = '';\n",
              "          dataTable['output_type'] = 'display_data';\n",
              "          await google.colab.output.renderOutput(dataTable, element);\n",
              "          const docLink = document.createElement('div');\n",
              "          docLink.innerHTML = docLinkHtml;\n",
              "          element.appendChild(docLink);\n",
              "        }\n",
              "      </script>\n",
              "    </div>\n",
              "  </div>\n",
              "  "
            ]
          },
          "metadata": {},
          "execution_count": 121
        }
      ]
    },
    {
      "cell_type": "code",
      "source": [
        "plt.figure(figsize = (16,5))\n",
        "plt.subplot(1,2,1)\n",
        "sns.distplot(df['cgpa'])\n",
        "\n",
        "plt.subplot(1,2,2)\n",
        "sns.distplot(df['placement_exam_marks'])\n",
        "\n",
        "plt.show()"
      ],
      "metadata": {
        "colab": {
          "base_uri": "https://localhost:8080/",
          "height": 335
        },
        "id": "x8kNvSg9BDA2",
        "outputId": "eb19a48b-ef46-47a0-aef8-0941e645a528"
      },
      "execution_count": 122,
      "outputs": [
        {
          "output_type": "display_data",
          "data": {
            "text/plain": [
              "<Figure size 1152x360 with 2 Axes>"
            ],
            "image/png": "[encoded data removed]"
          },
          "metadata": {
            "needs_background": "light"
          }
        }
      ]
    },
    {
      "cell_type": "markdown",
      "source": [
        "**Inference:** We see that the placement marks curve is skewed so we are going to use the IQR method to detect outliers and remove them."
      ],
      "metadata": {
        "id": "9UWvnCjdBO7n"
      }
    },
    {
      "cell_type": "code",
      "source": [
        "df['placement_exam_marks'].skew()"
      ],
      "metadata": {
        "colab": {
          "base_uri": "https://localhost:8080/"
        },
        "id": "5bNTdhOnBKne",
        "outputId": "4a1d3970-434e-4434-b0d4-aacc2561c459"
      },
      "execution_count": 123,
      "outputs": [
        {
          "output_type": "execute_result",
          "data": {
            "text/plain": [
              "0.8356419499466834"
            ]
          },
          "metadata": {},
          "execution_count": 123
        }
      ]
    },
    {
      "cell_type": "code",
      "source": [
        "df['placement_exam_marks'].describe()"
      ],
      "metadata": {
        "colab": {
          "base_uri": "https://localhost:8080/"
        },
        "id": "M2y5N2vRBlHE",
        "outputId": "acbde35f-54bf-4bee-c3ae-172f3a3b9361"
      },
      "execution_count": 124,
      "outputs": [
        {
          "output_type": "execute_result",
          "data": {
            "text/plain": [
              "count    1000.000000\n",
              "mean       32.225000\n",
              "std        19.130822\n",
              "min         0.000000\n",
              "25%        17.000000\n",
              "50%        28.000000\n",
              "75%        44.000000\n",
              "max       100.000000\n",
              "Name: placement_exam_marks, dtype: float64"
            ]
          },
          "metadata": {},
          "execution_count": 124
        }
      ]
    },
    {
      "cell_type": "code",
      "source": [
        "sns.boxplot(df['placement_exam_marks'])"
      ],
      "metadata": {
        "colab": {
          "base_uri": "https://localhost:8080/",
          "height": 297
        },
        "id": "TZ8h0Zf6BloK",
        "outputId": "b54947c3-f139-4980-a81e-b1775f7ecae3"
      },
      "execution_count": 125,
      "outputs": [
        {
          "output_type": "execute_result",
          "data": {
            "text/plain": [
              "<matplotlib.axes._subplots.AxesSubplot at 0x7fb11e1f13a0>"
            ]
          },
          "metadata": {},
          "execution_count": 125
        },
        {
          "output_type": "display_data",
          "data": {
            "text/plain": [
              "<Figure size 432x288 with 1 Axes>"
            ],
            "image/png": "[encoded data removed]"
          },
          "metadata": {
            "needs_background": "light"
          }
        }
      ]
    },
    {
      "cell_type": "markdown",
      "source": [
        "Step 1: Finding the IQR"
      ],
      "metadata": {
        "id": "3be3DSwYB8Yl"
      }
    },
    {
      "cell_type": "code",
      "source": [
        "percentile25 = df['placement_exam_marks'].quantile(0.25)\n",
        "percentile75 = df['placement_exam_marks'].quantile(0.75)"
      ],
      "metadata": {
        "id": "b2WSpHooBxNI"
      },
      "execution_count": 126,
      "outputs": []
    },
    {
      "cell_type": "code",
      "source": [
        "percentile25"
      ],
      "metadata": {
        "colab": {
          "base_uri": "https://localhost:8080/"
        },
        "id": "p-xtiZiGBxal",
        "outputId": "f464ea53-f082-408a-8cac-d5a907cf7981"
      },
      "execution_count": 127,
      "outputs": [
        {
          "output_type": "execute_result",
          "data": {
            "text/plain": [
              "17.0"
            ]
          },
          "metadata": {},
          "execution_count": 127
        }
      ]
    },
    {
      "cell_type": "code",
      "source": [
        "percentile75"
      ],
      "metadata": {
        "colab": {
          "base_uri": "https://localhost:8080/"
        },
        "id": "Ez2YbnPgCNDI",
        "outputId": "d25c5212-e867-4617-e54d-a1da405b67b5"
      },
      "execution_count": 128,
      "outputs": [
        {
          "output_type": "execute_result",
          "data": {
            "text/plain": [
              "44.0"
            ]
          },
          "metadata": {},
          "execution_count": 128
        }
      ]
    },
    {
      "cell_type": "code",
      "source": [
        "iqr = percentile75 - percentile25\n",
        "iqr"
      ],
      "metadata": {
        "colab": {
          "base_uri": "https://localhost:8080/"
        },
        "id": "YeN8NSCqCNHW",
        "outputId": "a20b1a43-d8a2-4cd5-ec9f-0e929bf03a15"
      },
      "execution_count": 129,
      "outputs": [
        {
          "output_type": "execute_result",
          "data": {
            "text/plain": [
              "27.0"
            ]
          },
          "metadata": {},
          "execution_count": 129
        }
      ]
    },
    {
      "cell_type": "code",
      "source": [
        "upper_limit = percentile75 + 1.5*iqr\n",
        "lower_limit = percentile25 - 1.5*iqr"
      ],
      "metadata": {
        "id": "jSDiAJyBCUYE"
      },
      "execution_count": 130,
      "outputs": []
    },
    {
      "cell_type": "code",
      "source": [
        "print('upper limit',upper_limit)\n",
        "print('lower limit',lower_limit)"
      ],
      "metadata": {
        "colab": {
          "base_uri": "https://localhost:8080/"
        },
        "id": "cK1jsAMZCncI",
        "outputId": "dc06288f-a6a3-46c5-bbd0-d0184a1189e9"
      },
      "execution_count": 131,
      "outputs": [
        {
          "output_type": "stream",
          "name": "stdout",
          "text": [
            "upper limit 84.5\n",
            "lower limit -23.5\n"
          ]
        }
      ]
    },
    {
      "cell_type": "code",
      "source": [
        "#finding outliers\n",
        "df[df['placement_exam_marks'] > upper_limit]"
      ],
      "metadata": {
        "colab": {
          "base_uri": "https://localhost:8080/",
          "height": 520
        },
        "id": "aL2nIy3ACngD",
        "outputId": "59c42a3c-5a33-4333-c1d8-5cb068104358"
      },
      "execution_count": 132,
      "outputs": [
        {
          "output_type": "execute_result",
          "data": {
            "text/plain": [
              "     cgpa  placement_exam_marks  placed\n",
              "9    7.75                  94.0       1\n",
              "40   6.60                  86.0       1\n",
              "61   7.51                  86.0       0\n",
              "134  6.33                  93.0       0\n",
              "162  7.80                  90.0       0\n",
              "283  7.09                  87.0       0\n",
              "290  8.38                  87.0       0\n",
              "311  6.97                  87.0       1\n",
              "324  6.64                  90.0       0\n",
              "630  6.56                  96.0       1\n",
              "685  6.05                  87.0       1\n",
              "730  6.14                  90.0       1\n",
              "771  7.31                  86.0       1\n",
              "846  6.99                  97.0       0\n",
              "917  5.95                 100.0       0"
            ],
            "text/html": [
              "\n",
              "  <div id=\"df-c696e41d-213f-4f13-ac17-944e4dcede5c\">\n",
              "    <div class=\"colab-df-container\">\n",
              "      <div>\n",
              "<style scoped>\n",
              "    .dataframe tbody tr th:only-of-type {\n",
              "        vertical-align: middle;\n",
              "    }\n",
              "\n",
              "    .dataframe tbody tr th {\n",
              "        vertical-align: top;\n",
              "    }\n",
              "\n",
              "    .dataframe thead th {\n",
              "        text-align: right;\n",
              "    }\n",
              "</style>\n",
              "<table border=\"1\" class=\"dataframe\">\n",
              "  <thead>\n",
              "    <tr style=\"text-align: right;\">\n",
              "      <th></th>\n",
              "      <th>cgpa</th>\n",
              "      <th>placement_exam_marks</th>\n",
              "      <th>placed</th>\n",
              "    </tr>\n",
              "  </thead>\n",
              "  <tbody>\n",
              "    <tr>\n",
              "      <th>9</th>\n",
              "      <td>7.75</td>\n",
              "      <td>94.0</td>\n",
              "      <td>1</td>\n",
              "    </tr>\n",
              "    <tr>\n",
              "      <th>40</th>\n",
              "      <td>6.60</td>\n",
              "      <td>86.0</td>\n",
              "      <td>1</td>\n",
              "    </tr>\n",
              "    <tr>\n",
              "      <th>61</th>\n",
              "      <td>7.51</td>\n",
              "      <td>86.0</td>\n",
              "      <td>0</td>\n",
              "    </tr>\n",
              "    <tr>\n",
              "      <th>134</th>\n",
              "      <td>6.33</td>\n",
              "      <td>93.0</td>\n",
              "      <td>0</td>\n",
              "    </tr>\n",
              "    <tr>\n",
              "      <th>162</th>\n",
              "      <td>7.80</td>\n",
              "      <td>90.0</td>\n",
              "      <td>0</td>\n",
              "    </tr>\n",
              "    <tr>\n",
              "      <th>283</th>\n",
              "      <td>7.09</td>\n",
              "      <td>87.0</td>\n",
              "      <td>0</td>\n",
              "    </tr>\n",
              "    <tr>\n",
              "      <th>290</th>\n",
              "      <td>8.38</td>\n",
              "      <td>87.0</td>\n",
              "      <td>0</td>\n",
              "    </tr>\n",
              "    <tr>\n",
              "      <th>311</th>\n",
              "      <td>6.97</td>\n",
              "      <td>87.0</td>\n",
              "      <td>1</td>\n",
              "    </tr>\n",
              "    <tr>\n",
              "      <th>324</th>\n",
              "      <td>6.64</td>\n",
              "      <td>90.0</td>\n",
              "      <td>0</td>\n",
              "    </tr>\n",
              "    <tr>\n",
              "      <th>630</th>\n",
              "      <td>6.56</td>\n",
              "      <td>96.0</td>\n",
              "      <td>1</td>\n",
              "    </tr>\n",
              "    <tr>\n",
              "      <th>685</th>\n",
              "      <td>6.05</td>\n",
              "      <td>87.0</td>\n",
              "      <td>1</td>\n",
              "    </tr>\n",
              "    <tr>\n",
              "      <th>730</th>\n",
              "      <td>6.14</td>\n",
              "      <td>90.0</td>\n",
              "      <td>1</td>\n",
              "    </tr>\n",
              "    <tr>\n",
              "      <th>771</th>\n",
              "      <td>7.31</td>\n",
              "      <td>86.0</td>\n",
              "      <td>1</td>\n",
              "    </tr>\n",
              "    <tr>\n",
              "      <th>846</th>\n",
              "      <td>6.99</td>\n",
              "      <td>97.0</td>\n",
              "      <td>0</td>\n",
              "    </tr>\n",
              "    <tr>\n",
              "      <th>917</th>\n",
              "      <td>5.95</td>\n",
              "      <td>100.0</td>\n",
              "      <td>0</td>\n",
              "    </tr>\n",
              "  </tbody>\n",
              "</table>\n",
              "</div>\n",
              "      <button class=\"colab-df-convert\" onclick=\"convertToInteractive('df-c696e41d-213f-4f13-ac17-944e4dcede5c')\"\n",
              "              title=\"Convert this dataframe to an interactive table.\"\n",
              "              style=\"display:none;\">\n",
              "        \n",
              "  <svg xmlns=\"http://www.w3.org/2000/svg\" height=\"24px\"viewBox=\"0 0 24 24\"\n",
              "       width=\"24px\">\n",
              "    <path d=\"M0 0h24v24H0V0z\" fill=\"none\"/>\n",
              "    <path d=\"M18.56 5.44l.94 2.06.94-2.06 2.06-.94-2.06-.94-.94-2.06-.94 2.06-2.06.94zm-11 1L8.5 8.5l.94-2.06 2.06-.94-2.06-.94L8.5 2.5l-.94 2.06-2.06.94zm10 10l.94 2.06.94-2.06 2.06-.94-2.06-.94-.94-2.06-.94 2.06-2.06.94z\"/><path d=\"M17.41 7.96l-1.37-1.37c-.4-.4-.92-.59-1.43-.59-.52 0-1.04.2-1.43.59L10.3 9.45l-7.72 7.72c-.78.78-.78 2.05 0 2.83L4 21.41c.39.39.9.59 1.41.59.51 0 1.02-.2 1.41-.59l7.78-7.78 2.81-2.81c.8-.78.8-2.07 0-2.86zM5.41 20L4 18.59l7.72-7.72 1.47 1.35L5.41 20z\"/>\n",
              "  </svg>\n",
              "      </button>\n",
              "      \n",
              "  <style>\n",
              "    .colab-df-container {\n",
              "      display:flex;\n",
              "      flex-wrap:wrap;\n",
              "      gap: 12px;\n",
              "    }\n",
              "\n",
              "    .colab-df-convert {\n",
              "      background-color: #E8F0FE;\n",
              "      border: none;\n",
              "      border-radius: 50%;\n",
              "      cursor: pointer;\n",
              "      display: none;\n",
              "      fill: #1967D2;\n",
              "      height: 32px;\n",
              "      padding: 0 0 0 0;\n",
              "      width: 32px;\n",
              "    }\n",
              "\n",
              "    .colab-df-convert:hover {\n",
              "      background-color: #E2EBFA;\n",
              "      box-shadow: 0px 1px 2px rgba(60, 64, 67, 0.3), 0px 1px 3px 1px rgba(60, 64, 67, 0.15);\n",
              "      fill: #174EA6;\n",
              "    }\n",
              "\n",
              "    [theme=dark] .colab-df-convert {\n",
              "      background-color: #3B4455;\n",
              "      fill: #D2E3FC;\n",
              "    }\n",
              "\n",
              "    [theme=dark] .colab-df-convert:hover {\n",
              "      background-color: #434B5C;\n",
              "      box-shadow: 0px 1px 3px 1px rgba(0, 0, 0, 0.15);\n",
              "      filter: drop-shadow(0px 1px 2px rgba(0, 0, 0, 0.3));\n",
              "      fill: #FFFFFF;\n",
              "    }\n",
              "  </style>\n",
              "\n",
              "      <script>\n",
              "        const buttonEl =\n",
              "          document.querySelector('#df-c696e41d-213f-4f13-ac17-944e4dcede5c button.colab-df-convert');\n",
              "        buttonEl.style.display =\n",
              "          google.colab.kernel.accessAllowed ? 'block' : 'none';\n",
              "\n",
              "        async function convertToInteractive(key) {\n",
              "          const element = document.querySelector('#df-c696e41d-213f-4f13-ac17-944e4dcede5c');\n",
              "          const dataTable =\n",
              "            await google.colab.kernel.invokeFunction('convertToInteractive',\n",
              "                                                     [key], {});\n",
              "          if (!dataTable) return;\n",
              "\n",
              "          const docLinkHtml = 'Like what you see? Visit the ' +\n",
              "            '<a target=\"_blank\" href=https://colab.research.google.com/notebooks/data_table.ipynb>data table notebook</a>'\n",
              "            + ' to learn more about interactive tables.';\n",
              "          element.innerHTML = '';\n",
              "          dataTable['output_type'] = 'display_data';\n",
              "          await google.colab.output.renderOutput(dataTable, element);\n",
              "          const docLink = document.createElement('div');\n",
              "          docLink.innerHTML = docLinkHtml;\n",
              "          element.appendChild(docLink);\n",
              "        }\n",
              "      </script>\n",
              "    </div>\n",
              "  </div>\n",
              "  "
            ]
          },
          "metadata": {},
          "execution_count": 132
        }
      ]
    },
    {
      "cell_type": "code",
      "source": [
        "df[df['placement_exam_marks'] < lower_limit]"
      ],
      "metadata": {
        "colab": {
          "base_uri": "https://localhost:8080/",
          "height": 49
        },
        "id": "RRSO2-68EPdM",
        "outputId": "617290b2-720a-49f2-fc96-06c70cca731a"
      },
      "execution_count": 133,
      "outputs": [
        {
          "output_type": "execute_result",
          "data": {
            "text/plain": [
              "Empty DataFrame\n",
              "Columns: [cgpa, placement_exam_marks, placed]\n",
              "Index: []"
            ],
            "text/html": [
              "\n",
              "  <div id=\"df-c65cc4a7-6f16-4cbb-9d78-bf8c69dd8ad7\">\n",
              "    <div class=\"colab-df-container\">\n",
              "      <div>\n",
              "<style scoped>\n",
              "    .dataframe tbody tr th:only-of-type {\n",
              "        vertical-align: middle;\n",
              "    }\n",
              "\n",
              "    .dataframe tbody tr th {\n",
              "        vertical-align: top;\n",
              "    }\n",
              "\n",
              "    .dataframe thead th {\n",
              "        text-align: right;\n",
              "    }\n",
              "</style>\n",
              "<table border=\"1\" class=\"dataframe\">\n",
              "  <thead>\n",
              "    <tr style=\"text-align: right;\">\n",
              "      <th></th>\n",
              "      <th>cgpa</th>\n",
              "      <th>placement_exam_marks</th>\n",
              "      <th>placed</th>\n",
              "    </tr>\n",
              "  </thead>\n",
              "  <tbody>\n",
              "  </tbody>\n",
              "</table>\n",
              "</div>\n",
              "      <button class=\"colab-df-convert\" onclick=\"convertToInteractive('df-c65cc4a7-6f16-4cbb-9d78-bf8c69dd8ad7')\"\n",
              "              title=\"Convert this dataframe to an interactive table.\"\n",
              "              style=\"display:none;\">\n",
              "        \n",
              "  <svg xmlns=\"http://www.w3.org/2000/svg\" height=\"24px\"viewBox=\"0 0 24 24\"\n",
              "       width=\"24px\">\n",
              "    <path d=\"M0 0h24v24H0V0z\" fill=\"none\"/>\n",
              "    <path d=\"M18.56 5.44l.94 2.06.94-2.06 2.06-.94-2.06-.94-.94-2.06-.94 2.06-2.06.94zm-11 1L8.5 8.5l.94-2.06 2.06-.94-2.06-.94L8.5 2.5l-.94 2.06-2.06.94zm10 10l.94 2.06.94-2.06 2.06-.94-2.06-.94-.94-2.06-.94 2.06-2.06.94z\"/><path d=\"M17.41 7.96l-1.37-1.37c-.4-.4-.92-.59-1.43-.59-.52 0-1.04.2-1.43.59L10.3 9.45l-7.72 7.72c-.78.78-.78 2.05 0 2.83L4 21.41c.39.39.9.59 1.41.59.51 0 1.02-.2 1.41-.59l7.78-7.78 2.81-2.81c.8-.78.8-2.07 0-2.86zM5.41 20L4 18.59l7.72-7.72 1.47 1.35L5.41 20z\"/>\n",
              "  </svg>\n",
              "      </button>\n",
              "      \n",
              "  <style>\n",
              "    .colab-df-container {\n",
              "      display:flex;\n",
              "      flex-wrap:wrap;\n",
              "      gap: 12px;\n",
              "    }\n",
              "\n",
              "    .colab-df-convert {\n",
              "      background-color: #E8F0FE;\n",
              "      border: none;\n",
              "      border-radius: 50%;\n",
              "      cursor: pointer;\n",
              "      display: none;\n",
              "      fill: #1967D2;\n",
              "      height: 32px;\n",
              "      padding: 0 0 0 0;\n",
              "      width: 32px;\n",
              "    }\n",
              "\n",
              "    .colab-df-convert:hover {\n",
              "      background-color: #E2EBFA;\n",
              "      box-shadow: 0px 1px 2px rgba(60, 64, 67, 0.3), 0px 1px 3px 1px rgba(60, 64, 67, 0.15);\n",
              "      fill: #174EA6;\n",
              "    }\n",
              "\n",
              "    [theme=dark] .colab-df-convert {\n",
              "      background-color: #3B4455;\n",
              "      fill: #D2E3FC;\n",
              "    }\n",
              "\n",
              "    [theme=dark] .colab-df-convert:hover {\n",
              "      background-color: #434B5C;\n",
              "      box-shadow: 0px 1px 3px 1px rgba(0, 0, 0, 0.15);\n",
              "      filter: drop-shadow(0px 1px 2px rgba(0, 0, 0, 0.3));\n",
              "      fill: #FFFFFF;\n",
              "    }\n",
              "  </style>\n",
              "\n",
              "      <script>\n",
              "        const buttonEl =\n",
              "          document.querySelector('#df-c65cc4a7-6f16-4cbb-9d78-bf8c69dd8ad7 button.colab-df-convert');\n",
              "        buttonEl.style.display =\n",
              "          google.colab.kernel.accessAllowed ? 'block' : 'none';\n",
              "\n",
              "        async function convertToInteractive(key) {\n",
              "          const element = document.querySelector('#df-c65cc4a7-6f16-4cbb-9d78-bf8c69dd8ad7');\n",
              "          const dataTable =\n",
              "            await google.colab.kernel.invokeFunction('convertToInteractive',\n",
              "                                                     [key], {});\n",
              "          if (!dataTable) return;\n",
              "\n",
              "          const docLinkHtml = 'Like what you see? Visit the ' +\n",
              "            '<a target=\"_blank\" href=https://colab.research.google.com/notebooks/data_table.ipynb>data table notebook</a>'\n",
              "            + ' to learn more about interactive tables.';\n",
              "          element.innerHTML = '';\n",
              "          dataTable['output_type'] = 'display_data';\n",
              "          await google.colab.output.renderOutput(dataTable, element);\n",
              "          const docLink = document.createElement('div');\n",
              "          docLink.innerHTML = docLinkHtml;\n",
              "          element.appendChild(docLink);\n",
              "        }\n",
              "      </script>\n",
              "    </div>\n",
              "  </div>\n",
              "  "
            ]
          },
          "metadata": {},
          "execution_count": 133
        }
      ]
    },
    {
      "cell_type": "code",
      "source": [
        "#trimming the outliers\n",
        "\n",
        "new_df = df[df['placement_exam_marks'] < upper_limit]"
      ],
      "metadata": {
        "id": "piglAvkiEPio"
      },
      "execution_count": 134,
      "outputs": []
    },
    {
      "cell_type": "code",
      "source": [
        "new_df.shape"
      ],
      "metadata": {
        "colab": {
          "base_uri": "https://localhost:8080/"
        },
        "id": "4f9UX6JCCnic",
        "outputId": "b17d3f49-d576-48ac-951e-cb48442ef1d9"
      },
      "execution_count": 135,
      "outputs": [
        {
          "output_type": "execute_result",
          "data": {
            "text/plain": [
              "(985, 3)"
            ]
          },
          "metadata": {},
          "execution_count": 135
        }
      ]
    },
    {
      "cell_type": "code",
      "source": [
        "#comparing\n",
        "\n",
        "plt.figure(figsize=(16,8))\n",
        "plt.subplot(2,2,1)\n",
        "sns.distplot(df['placement_exam_marks'])\n",
        "\n",
        "plt.subplot(2,2,2)\n",
        "sns.boxplot(df['placement_exam_marks'])\n",
        "\n",
        "plt.subplot(2,2,3)\n",
        "sns.distplot(new_df['placement_exam_marks'])\n",
        "\n",
        "plt.subplot(2,2,4)\n",
        "sns.boxplot(new_df['placement_exam_marks'])\n",
        "\n",
        "plt.show()\n"
      ],
      "metadata": {
        "colab": {
          "base_uri": "https://localhost:8080/",
          "height": 498
        },
        "id": "lpqraeKCE1XI",
        "outputId": "63185b86-b21f-47fa-8582-ed10be6b7498"
      },
      "execution_count": 136,
      "outputs": [
        {
          "output_type": "display_data",
          "data": {
            "text/plain": [
              "<Figure size 1152x576 with 4 Axes>"
            ],
            "image/png": "[encoded data removed]"
          },
          "metadata": {
            "needs_background": "light"
          }
        }
      ]
    },
    {
      "cell_type": "code",
      "source": [
        "#mthod 2 capping the outliers\n",
        "\n",
        "new_df_cap = df.copy()\n",
        "\n",
        "new_df_cap['placement_exam_marks'] = np.where(\n",
        "    new_df_cap['placement_exam_marks'] > upper_limit,\n",
        "    upper_limit,\n",
        "    np.where(\n",
        "        new_df_cap['placement_exam_marks'] < lower_limit,\n",
        "        lower_limit,\n",
        "        new_df_cap['placement_exam_marks']\n",
        "    )\n",
        ")"
      ],
      "metadata": {
        "id": "17ZHEKRjFqSN"
      },
      "execution_count": 137,
      "outputs": []
    },
    {
      "cell_type": "code",
      "source": [
        "new_df_cap.shape"
      ],
      "metadata": {
        "colab": {
          "base_uri": "https://localhost:8080/"
        },
        "id": "QhHScSgwFxPQ",
        "outputId": "497e2ed3-d3b0-46ae-bd7d-bfa695c3269b"
      },
      "execution_count": 138,
      "outputs": [
        {
          "output_type": "execute_result",
          "data": {
            "text/plain": [
              "(1000, 3)"
            ]
          },
          "metadata": {},
          "execution_count": 138
        }
      ]
    },
    {
      "cell_type": "code",
      "source": [
        "#comparing\n",
        "\n",
        "plt.figure(figsize=(16,8))\n",
        "plt.subplot(2,2,1)\n",
        "sns.distplot(df['placement_exam_marks'])\n",
        "\n",
        "plt.subplot(2,2,2)\n",
        "sns.boxplot(df['placement_exam_marks'])\n",
        "\n",
        "plt.subplot(2,2,3)\n",
        "sns.distplot(new_df_cap['placement_exam_marks'])\n",
        "\n",
        "plt.subplot(2,2,4)\n",
        "sns.boxplot(new_df_cap['placement_exam_marks'])\n",
        "\n",
        "plt.show()"
      ],
      "metadata": {
        "colab": {
          "base_uri": "https://localhost:8080/",
          "height": 498
        },
        "id": "3RezDdvBGXB_",
        "outputId": "ef8eb332-4965-4da9-9ef0-c6a3cc64c2bf"
      },
      "execution_count": 139,
      "outputs": [
        {
          "output_type": "display_data",
          "data": {
            "text/plain": [
              "<Figure size 1152x576 with 4 Axes>"
            ],
            "image/png": "[encoded data removed]"
          },
          "metadata": {
            "needs_background": "light"
          }
        }
      ]
    },
    {
      "cell_type": "markdown",
      "source": [
        "# 3. Outlier Detection using Percentile Method"
      ],
      "metadata": {
        "id": "1R-Jw-VRG5AB"
      }
    },
    {
      "cell_type": "markdown",
      "source": [
        "**What is percentile?**\n",
        "\n",
        "A percentile is a term that describes how a score compares to other scores from the same set. \n",
        "\n",
        "Example: if you have 50percentile it means that 50% people are below yours."
      ],
      "metadata": {
        "id": "JYlUq2y2HfTe"
      }
    },
    {
      "cell_type": "markdown",
      "source": [
        "In this method we are setting percentile as range."
      ],
      "metadata": {
        "id": "zz1q7p0YHfqA"
      }
    },
    {
      "cell_type": "markdown",
      "source": [
        "After detection of outliers using this percentile range we can either remove those outliers or Cap them.\n",
        "\n",
        "Capping is also known as **Winsorization.**"
      ],
      "metadata": {
        "id": "EexbfCTxIMEm"
      }
    },
    {
      "cell_type": "markdown",
      "source": [
        "## Code"
      ],
      "metadata": {
        "id": "r0lTw5ibIMe_"
      }
    },
    {
      "cell_type": "code",
      "source": [
        "uploads = files.upload()"
      ],
      "metadata": {
        "colab": {
          "base_uri": "https://localhost:8080/",
          "height": 73
        },
        "id": "sNzSmQzfJqvB",
        "outputId": "cbf5e16f-31d8-427f-e70b-fa4d00b06a91"
      },
      "execution_count": 141,
      "outputs": [
        {
          "output_type": "display_data",
          "data": {
            "text/plain": [
              "<IPython.core.display.HTML object>"
            ],
            "text/html": [
              "\n",
              "     <input type=\"file\" id=\"files-8b5a7826-97c6-4085-9380-d3b908a7b6b1\" name=\"files[]\" multiple disabled\n",
              "        style=\"border:none\" />\n",
              "     <output id=\"result-8b5a7826-97c6-4085-9380-d3b908a7b6b1\">\n",
              "      Upload widget is only available when the cell has been executed in the\n",
              "      current browser session. Please rerun this cell to enable.\n",
              "      </output>\n",
              "      <script>// Copyright 2017 Google LLC\n",
              "//\n",
              "// Licensed under the Apache License, Version 2.0 (the \"License\");\n",
              "// you may not use this file except in compliance with the License.\n",
              "// You may obtain a copy of the License at\n",
              "//\n",
              "//      http://www.apache.org/licenses/LICENSE-2.0\n",
              "//\n",
              "// Unless required by applicable law or agreed to in writing, software\n",
              "// distributed under the License is distributed on an \"AS IS\" BASIS,\n",
              "// WITHOUT WARRANTIES OR CONDITIONS OF ANY KIND, either express or implied.\n",
              "// See the License for the specific language governing permissions and\n",
              "// limitations under the License.\n",
              "\n",
              "/**\n",
              " * @fileoverview Helpers for google.colab Python module.\n",
              " */\n",
              "(function(scope) {\n",
              "function span(text, styleAttributes = {}) {\n",
              "  const element = document.createElement('span');\n",
              "  element.textContent = text;\n",
              "  for (const key of Object.keys(styleAttributes)) {\n",
              "    element.style[key] = styleAttributes[key];\n",
              "  }\n",
              "  return element;\n",
              "}\n",
              "\n",
              "// Max number of bytes which will be uploaded at a time.\n",
              "const MAX_PAYLOAD_SIZE = 100 * 1024;\n",
              "\n",
              "function _uploadFiles(inputId, outputId) {\n",
              "  const steps = uploadFilesStep(inputId, outputId);\n",
              "  const outputElement = document.getElementById(outputId);\n",
              "  // Cache steps on the outputElement to make it available for the next call\n",
              "  // to uploadFilesContinue from Python.\n",
              "  outputElement.steps = steps;\n",
              "\n",
              "  return _uploadFilesContinue(outputId);\n",
              "}\n",
              "\n",
              "// This is roughly an async generator (not supported in the browser yet),\n",
              "// where there are multiple asynchronous steps and the Python side is going\n",
              "// to poll for completion of each step.\n",
              "// This uses a Promise to block the python side on completion of each step,\n",
              "// then passes the result of the previous step as the input to the next step.\n",
              "function _uploadFilesContinue(outputId) {\n",
              "  const outputElement = document.getElementById(outputId);\n",
              "  const steps = outputElement.steps;\n",
              "\n",
              "  const next = steps.next(outputElement.lastPromiseValue);\n",
              "  return Promise.resolve(next.value.promise).then((value) => {\n",
              "    // Cache the last promise value to make it available to the next\n",
              "    // step of the generator.\n",
              "    outputElement.lastPromiseValue = value;\n",
              "    return next.value.response;\n",
              "  });\n",
              "}\n",
              "\n",
              "/**\n",
              " * Generator function which is called between each async step of the upload\n",
              " * process.\n",
              " * @param {string} inputId Element ID of the input file picker element.\n",
              " * @param {string} outputId Element ID of the output display.\n",
              " * @return {!Iterable<!Object>} Iterable of next steps.\n",
              " */\n",
              "function* uploadFilesStep(inputId, outputId) {\n",
              "  const inputElement = document.getElementById(inputId);\n",
              "  inputElement.disabled = false;\n",
              "\n",
              "  const outputElement = document.getElementById(outputId);\n",
              "  outputElement.innerHTML = '';\n",
              "\n",
              "  const pickedPromise = new Promise((resolve) => {\n",
              "    inputElement.addEventListener('change', (e) => {\n",
              "      resolve(e.target.files);\n",
              "    });\n",
              "  });\n",
              "\n",
              "  const cancel = document.createElement('button');\n",
              "  inputElement.parentElement.appendChild(cancel);\n",
              "  cancel.textContent = 'Cancel upload';\n",
              "  const cancelPromise = new Promise((resolve) => {\n",
              "    cancel.onclick = () => {\n",
              "      resolve(null);\n",
              "    };\n",
              "  });\n",
              "\n",
              "  // Wait for the user to pick the files.\n",
              "  const files = yield {\n",
              "    promise: Promise.race([pickedPromise, cancelPromise]),\n",
              "    response: {\n",
              "      action: 'starting',\n",
              "    }\n",
              "  };\n",
              "\n",
              "  cancel.remove();\n",
              "\n",
              "  // Disable the input element since further picks are not allowed.\n",
              "  inputElement.disabled = true;\n",
              "\n",
              "  if (!files) {\n",
              "    return {\n",
              "      response: {\n",
              "        action: 'complete',\n",
              "      }\n",
              "    };\n",
              "  }\n",
              "\n",
              "  for (const file of files) {\n",
              "    const li = document.createElement('li');\n",
              "    li.append(span(file.name, {fontWeight: 'bold'}));\n",
              "    li.append(span(\n",
              "        `(${file.type || 'n/a'}) - ${file.size} bytes, ` +\n",
              "        `last modified: ${\n",
              "            file.lastModifiedDate ? file.lastModifiedDate.toLocaleDateString() :\n",
              "                                    'n/a'} - `));\n",
              "    const percent = span('0% done');\n",
              "    li.appendChild(percent);\n",
              "\n",
              "    outputElement.appendChild(li);\n",
              "\n",
              "    const fileDataPromise = new Promise((resolve) => {\n",
              "      const reader = new FileReader();\n",
              "      reader.onload = (e) => {\n",
              "        resolve(e.target.result);\n",
              "      };\n",
              "      reader.readAsArrayBuffer(file);\n",
              "    });\n",
              "    // Wait for the data to be ready.\n",
              "    let fileData = yield {\n",
              "      promise: fileDataPromise,\n",
              "      response: {\n",
              "        action: 'continue',\n",
              "      }\n",
              "    };\n",
              "\n",
              "    // Use a chunked sending to avoid message size limits. See b/62115660.\n",
              "    let position = 0;\n",
              "    do {\n",
              "      const length = Math.min(fileData.byteLength - position, MAX_PAYLOAD_SIZE);\n",
              "      const chunk = new Uint8Array(fileData, position, length);\n",
              "      position += length;\n",
              "\n",
              "      const base64 = btoa(String.fromCharCode.apply(null, chunk));\n",
              "      yield {\n",
              "        response: {\n",
              "          action: 'append',\n",
              "          file: file.name,\n",
              "          data: base64,\n",
              "        },\n",
              "      };\n",
              "\n",
              "      let percentDone = fileData.byteLength === 0 ?\n",
              "          100 :\n",
              "          Math.round((position / fileData.byteLength) * 100);\n",
              "      percent.textContent = `${percentDone}% done`;\n",
              "\n",
              "    } while (position < fileData.byteLength);\n",
              "  }\n",
              "\n",
              "  // All done.\n",
              "  yield {\n",
              "    response: {\n",
              "      action: 'complete',\n",
              "    }\n",
              "  };\n",
              "}\n",
              "\n",
              "scope.google = scope.google || {};\n",
              "scope.google.colab = scope.google.colab || {};\n",
              "scope.google.colab._files = {\n",
              "  _uploadFiles,\n",
              "  _uploadFilesContinue,\n",
              "};\n",
              "})(self);\n",
              "</script> "
            ]
          },
          "metadata": {}
        },
        {
          "output_type": "stream",
          "name": "stdout",
          "text": [
            "Saving weight-height.csv to weight-height (1).csv\n"
          ]
        }
      ]
    },
    {
      "cell_type": "code",
      "source": [
        "df2 = pd.read_csv('weight-height.csv')"
      ],
      "metadata": {
        "id": "LJUxvwvpJt4r"
      },
      "execution_count": 142,
      "outputs": []
    },
    {
      "cell_type": "code",
      "source": [
        "df2.head()"
      ],
      "metadata": {
        "colab": {
          "base_uri": "https://localhost:8080/",
          "height": 206
        },
        "id": "oWMf78pVKOIM",
        "outputId": "09448e38-23fc-4518-fe2b-1005d8bc05e9"
      },
      "execution_count": 143,
      "outputs": [
        {
          "output_type": "execute_result",
          "data": {
            "text/plain": [
              "  Gender     Height      Weight\n",
              "0   Male  73.847017  241.893563\n",
              "1   Male  68.781904  162.310473\n",
              "2   Male  74.110105  212.740856\n",
              "3   Male  71.730978  220.042470\n",
              "4   Male  69.881796  206.349801"
            ],
            "text/html": [
              "\n",
              "  <div id=\"df-f5e9e84e-5306-4022-b68b-9d8a9883cd0d\">\n",
              "    <div class=\"colab-df-container\">\n",
              "      <div>\n",
              "<style scoped>\n",
              "    .dataframe tbody tr th:only-of-type {\n",
              "        vertical-align: middle;\n",
              "    }\n",
              "\n",
              "    .dataframe tbody tr th {\n",
              "        vertical-align: top;\n",
              "    }\n",
              "\n",
              "    .dataframe thead th {\n",
              "        text-align: right;\n",
              "    }\n",
              "</style>\n",
              "<table border=\"1\" class=\"dataframe\">\n",
              "  <thead>\n",
              "    <tr style=\"text-align: right;\">\n",
              "      <th></th>\n",
              "      <th>Gender</th>\n",
              "      <th>Height</th>\n",
              "      <th>Weight</th>\n",
              "    </tr>\n",
              "  </thead>\n",
              "  <tbody>\n",
              "    <tr>\n",
              "      <th>0</th>\n",
              "      <td>Male</td>\n",
              "      <td>73.847017</td>\n",
              "      <td>241.893563</td>\n",
              "    </tr>\n",
              "    <tr>\n",
              "      <th>1</th>\n",
              "      <td>Male</td>\n",
              "      <td>68.781904</td>\n",
              "      <td>162.310473</td>\n",
              "    </tr>\n",
              "    <tr>\n",
              "      <th>2</th>\n",
              "      <td>Male</td>\n",
              "      <td>74.110105</td>\n",
              "      <td>212.740856</td>\n",
              "    </tr>\n",
              "    <tr>\n",
              "      <th>3</th>\n",
              "      <td>Male</td>\n",
              "      <td>71.730978</td>\n",
              "      <td>220.042470</td>\n",
              "    </tr>\n",
              "    <tr>\n",
              "      <th>4</th>\n",
              "      <td>Male</td>\n",
              "      <td>69.881796</td>\n",
              "      <td>206.349801</td>\n",
              "    </tr>\n",
              "  </tbody>\n",
              "</table>\n",
              "</div>\n",
              "      <button class=\"colab-df-convert\" onclick=\"convertToInteractive('df-f5e9e84e-5306-4022-b68b-9d8a9883cd0d')\"\n",
              "              title=\"Convert this dataframe to an interactive table.\"\n",
              "              style=\"display:none;\">\n",
              "        \n",
              "  <svg xmlns=\"http://www.w3.org/2000/svg\" height=\"24px\"viewBox=\"0 0 24 24\"\n",
              "       width=\"24px\">\n",
              "    <path d=\"M0 0h24v24H0V0z\" fill=\"none\"/>\n",
              "    <path d=\"M18.56 5.44l.94 2.06.94-2.06 2.06-.94-2.06-.94-.94-2.06-.94 2.06-2.06.94zm-11 1L8.5 8.5l.94-2.06 2.06-.94-2.06-.94L8.5 2.5l-.94 2.06-2.06.94zm10 10l.94 2.06.94-2.06 2.06-.94-2.06-.94-.94-2.06-.94 2.06-2.06.94z\"/><path d=\"M17.41 7.96l-1.37-1.37c-.4-.4-.92-.59-1.43-.59-.52 0-1.04.2-1.43.59L10.3 9.45l-7.72 7.72c-.78.78-.78 2.05 0 2.83L4 21.41c.39.39.9.59 1.41.59.51 0 1.02-.2 1.41-.59l7.78-7.78 2.81-2.81c.8-.78.8-2.07 0-2.86zM5.41 20L4 18.59l7.72-7.72 1.47 1.35L5.41 20z\"/>\n",
              "  </svg>\n",
              "      </button>\n",
              "      \n",
              "  <style>\n",
              "    .colab-df-container {\n",
              "      display:flex;\n",
              "      flex-wrap:wrap;\n",
              "      gap: 12px;\n",
              "    }\n",
              "\n",
              "    .colab-df-convert {\n",
              "      background-color: #E8F0FE;\n",
              "      border: none;\n",
              "      border-radius: 50%;\n",
              "      cursor: pointer;\n",
              "      display: none;\n",
              "      fill: #1967D2;\n",
              "      height: 32px;\n",
              "      padding: 0 0 0 0;\n",
              "      width: 32px;\n",
              "    }\n",
              "\n",
              "    .colab-df-convert:hover {\n",
              "      background-color: #E2EBFA;\n",
              "      box-shadow: 0px 1px 2px rgba(60, 64, 67, 0.3), 0px 1px 3px 1px rgba(60, 64, 67, 0.15);\n",
              "      fill: #174EA6;\n",
              "    }\n",
              "\n",
              "    [theme=dark] .colab-df-convert {\n",
              "      background-color: #3B4455;\n",
              "      fill: #D2E3FC;\n",
              "    }\n",
              "\n",
              "    [theme=dark] .colab-df-convert:hover {\n",
              "      background-color: #434B5C;\n",
              "      box-shadow: 0px 1px 3px 1px rgba(0, 0, 0, 0.15);\n",
              "      filter: drop-shadow(0px 1px 2px rgba(0, 0, 0, 0.3));\n",
              "      fill: #FFFFFF;\n",
              "    }\n",
              "  </style>\n",
              "\n",
              "      <script>\n",
              "        const buttonEl =\n",
              "          document.querySelector('#df-f5e9e84e-5306-4022-b68b-9d8a9883cd0d button.colab-df-convert');\n",
              "        buttonEl.style.display =\n",
              "          google.colab.kernel.accessAllowed ? 'block' : 'none';\n",
              "\n",
              "        async function convertToInteractive(key) {\n",
              "          const element = document.querySelector('#df-f5e9e84e-5306-4022-b68b-9d8a9883cd0d');\n",
              "          const dataTable =\n",
              "            await google.colab.kernel.invokeFunction('convertToInteractive',\n",
              "                                                     [key], {});\n",
              "          if (!dataTable) return;\n",
              "\n",
              "          const docLinkHtml = 'Like what you see? Visit the ' +\n",
              "            '<a target=\"_blank\" href=https://colab.research.google.com/notebooks/data_table.ipynb>data table notebook</a>'\n",
              "            + ' to learn more about interactive tables.';\n",
              "          element.innerHTML = '';\n",
              "          dataTable['output_type'] = 'display_data';\n",
              "          await google.colab.output.renderOutput(dataTable, element);\n",
              "          const docLink = document.createElement('div');\n",
              "          docLink.innerHTML = docLinkHtml;\n",
              "          element.appendChild(docLink);\n",
              "        }\n",
              "      </script>\n",
              "    </div>\n",
              "  </div>\n",
              "  "
            ]
          },
          "metadata": {},
          "execution_count": 143
        }
      ]
    },
    {
      "cell_type": "code",
      "source": [
        "df2.shape"
      ],
      "metadata": {
        "colab": {
          "base_uri": "https://localhost:8080/"
        },
        "id": "tQ7abtYOKRJj",
        "outputId": "a6bc6849-fb71-47ca-9fa0-fc96960885b8"
      },
      "execution_count": 144,
      "outputs": [
        {
          "output_type": "execute_result",
          "data": {
            "text/plain": [
              "(10000, 3)"
            ]
          },
          "metadata": {},
          "execution_count": 144
        }
      ]
    },
    {
      "cell_type": "code",
      "source": [
        "df2['Height'].describe()"
      ],
      "metadata": {
        "colab": {
          "base_uri": "https://localhost:8080/"
        },
        "id": "zn2DW54mKWha",
        "outputId": "bd613734-9a7f-4d4f-d38b-6d9e35de78a1"
      },
      "execution_count": 145,
      "outputs": [
        {
          "output_type": "execute_result",
          "data": {
            "text/plain": [
              "count    10000.000000\n",
              "mean        66.367560\n",
              "std          3.847528\n",
              "min         54.263133\n",
              "25%         63.505620\n",
              "50%         66.318070\n",
              "75%         69.174262\n",
              "max         78.998742\n",
              "Name: Height, dtype: float64"
            ]
          },
          "metadata": {},
          "execution_count": 145
        }
      ]
    },
    {
      "cell_type": "code",
      "source": [
        "sns.distplot(df2['Height'])"
      ],
      "metadata": {
        "colab": {
          "base_uri": "https://localhost:8080/",
          "height": 296
        },
        "id": "EklEYUjjKW-Q",
        "outputId": "f6eeea93-5122-48c8-de99-43c14c5eeedd"
      },
      "execution_count": 146,
      "outputs": [
        {
          "output_type": "execute_result",
          "data": {
            "text/plain": [
              "<matplotlib.axes._subplots.AxesSubplot at 0x7fb11e11e160>"
            ]
          },
          "metadata": {},
          "execution_count": 146
        },
        {
          "output_type": "display_data",
          "data": {
            "text/plain": [
              "<Figure size 432x288 with 1 Axes>"
            ],
            "image/png": "[encoded data removed]"
          },
          "metadata": {
            "needs_background": "light"
          }
        }
      ]
    },
    {
      "cell_type": "markdown",
      "source": [
        "**Inference:** Normal Distribution in the Height column."
      ],
      "metadata": {
        "id": "X0jbD6CqKnq9"
      }
    },
    {
      "cell_type": "code",
      "source": [
        "sns.boxplot(df2['Height'])"
      ],
      "metadata": {
        "colab": {
          "base_uri": "https://localhost:8080/",
          "height": 296
        },
        "id": "JO6sfGreKXEO",
        "outputId": "1d996c80-8a86-4355-9670-4a1c6593b28f"
      },
      "execution_count": 147,
      "outputs": [
        {
          "output_type": "execute_result",
          "data": {
            "text/plain": [
              "<matplotlib.axes._subplots.AxesSubplot at 0x7fb11e061f70>"
            ]
          },
          "metadata": {},
          "execution_count": 147
        },
        {
          "output_type": "display_data",
          "data": {
            "text/plain": [
              "<Figure size 432x288 with 1 Axes>"
            ],
            "image/png": "[encoded data removed]"
          },
          "metadata": {
            "needs_background": "light"
          }
        }
      ]
    },
    {
      "cell_type": "code",
      "source": [
        "upper_limit = df2['Height'].quantile(0.99)         #means any value over 99 percentile is an outlier\n",
        "upper_limit"
      ],
      "metadata": {
        "colab": {
          "base_uri": "https://localhost:8080/"
        },
        "id": "I6QHQU8GKyql",
        "outputId": "818e68d7-2137-477e-f310-441c11e5d67f"
      },
      "execution_count": 148,
      "outputs": [
        {
          "output_type": "execute_result",
          "data": {
            "text/plain": [
              "74.7857900583366"
            ]
          },
          "metadata": {},
          "execution_count": 148
        }
      ]
    },
    {
      "cell_type": "code",
      "source": [
        "lower_limit = df2['Height'].quantile(0.01)        #means any value below 1 percentile is an outlier\n",
        "lower_limit"
      ],
      "metadata": {
        "colab": {
          "base_uri": "https://localhost:8080/"
        },
        "id": "gY9hVGCNLJsm",
        "outputId": "ebf46577-0761-4ea0-9293-8544c9d80676"
      },
      "execution_count": 149,
      "outputs": [
        {
          "output_type": "execute_result",
          "data": {
            "text/plain": [
              "58.13441158671655"
            ]
          },
          "metadata": {},
          "execution_count": 149
        }
      ]
    },
    {
      "cell_type": "code",
      "source": [
        "df2[(df2['Height'] >= 74.78) | (df2['Height'] <= 58.13)]"
      ],
      "metadata": {
        "colab": {
          "base_uri": "https://localhost:8080/",
          "height": 424
        },
        "id": "Mn_PznEPLS3n",
        "outputId": "20b2522b-0c90-48a4-a684-512cb96bc86d"
      },
      "execution_count": 150,
      "outputs": [
        {
          "output_type": "execute_result",
          "data": {
            "text/plain": [
              "      Gender     Height      Weight\n",
              "23      Male  75.205974  228.761781\n",
              "190     Male  76.709835  235.035419\n",
              "197     Male  75.944460  231.924749\n",
              "202     Male  75.140821  224.124271\n",
              "215     Male  74.795375  232.635403\n",
              "...      ...        ...         ...\n",
              "9761  Female  56.975279   90.341784\n",
              "9825  Female  55.979198   85.417534\n",
              "9895  Female  57.740192   93.652957\n",
              "9904  Female  57.028857  101.202551\n",
              "9978  Female  57.375759  114.192209\n",
              "\n",
              "[201 rows x 3 columns]"
            ],
            "text/html": [
              "\n",
              "  <div id=\"df-2804e2d5-26e3-41ad-ba6a-5e9dbbc391ff\">\n",
              "    <div class=\"colab-df-container\">\n",
              "      <div>\n",
              "<style scoped>\n",
              "    .dataframe tbody tr th:only-of-type {\n",
              "        vertical-align: middle;\n",
              "    }\n",
              "\n",
              "    .dataframe tbody tr th {\n",
              "        vertical-align: top;\n",
              "    }\n",
              "\n",
              "    .dataframe thead th {\n",
              "        text-align: right;\n",
              "    }\n",
              "</style>\n",
              "<table border=\"1\" class=\"dataframe\">\n",
              "  <thead>\n",
              "    <tr style=\"text-align: right;\">\n",
              "      <th></th>\n",
              "      <th>Gender</th>\n",
              "      <th>Height</th>\n",
              "      <th>Weight</th>\n",
              "    </tr>\n",
              "  </thead>\n",
              "  <tbody>\n",
              "    <tr>\n",
              "      <th>23</th>\n",
              "      <td>Male</td>\n",
              "      <td>75.205974</td>\n",
              "      <td>228.761781</td>\n",
              "    </tr>\n",
              "    <tr>\n",
              "      <th>190</th>\n",
              "      <td>Male</td>\n",
              "      <td>76.709835</td>\n",
              "      <td>235.035419</td>\n",
              "    </tr>\n",
              "    <tr>\n",
              "      <th>197</th>\n",
              "      <td>Male</td>\n",
              "      <td>75.944460</td>\n",
              "      <td>231.924749</td>\n",
              "    </tr>\n",
              "    <tr>\n",
              "      <th>202</th>\n",
              "      <td>Male</td>\n",
              "      <td>75.140821</td>\n",
              "      <td>224.124271</td>\n",
              "    </tr>\n",
              "    <tr>\n",
              "      <th>215</th>\n",
              "      <td>Male</td>\n",
              "      <td>74.795375</td>\n",
              "      <td>232.635403</td>\n",
              "    </tr>\n",
              "    <tr>\n",
              "      <th>...</th>\n",
              "      <td>...</td>\n",
              "      <td>...</td>\n",
              "      <td>...</td>\n",
              "    </tr>\n",
              "    <tr>\n",
              "      <th>9761</th>\n",
              "      <td>Female</td>\n",
              "      <td>56.975279</td>\n",
              "      <td>90.341784</td>\n",
              "    </tr>\n",
              "    <tr>\n",
              "      <th>9825</th>\n",
              "      <td>Female</td>\n",
              "      <td>55.979198</td>\n",
              "      <td>85.417534</td>\n",
              "    </tr>\n",
              "    <tr>\n",
              "      <th>9895</th>\n",
              "      <td>Female</td>\n",
              "      <td>57.740192</td>\n",
              "      <td>93.652957</td>\n",
              "    </tr>\n",
              "    <tr>\n",
              "      <th>9904</th>\n",
              "      <td>Female</td>\n",
              "      <td>57.028857</td>\n",
              "      <td>101.202551</td>\n",
              "    </tr>\n",
              "    <tr>\n",
              "      <th>9978</th>\n",
              "      <td>Female</td>\n",
              "      <td>57.375759</td>\n",
              "      <td>114.192209</td>\n",
              "    </tr>\n",
              "  </tbody>\n",
              "</table>\n",
              "<p>201 rows × 3 columns</p>\n",
              "</div>\n",
              "      <button class=\"colab-df-convert\" onclick=\"convertToInteractive('df-2804e2d5-26e3-41ad-ba6a-5e9dbbc391ff')\"\n",
              "              title=\"Convert this dataframe to an interactive table.\"\n",
              "              style=\"display:none;\">\n",
              "        \n",
              "  <svg xmlns=\"http://www.w3.org/2000/svg\" height=\"24px\"viewBox=\"0 0 24 24\"\n",
              "       width=\"24px\">\n",
              "    <path d=\"M0 0h24v24H0V0z\" fill=\"none\"/>\n",
              "    <path d=\"M18.56 5.44l.94 2.06.94-2.06 2.06-.94-2.06-.94-.94-2.06-.94 2.06-2.06.94zm-11 1L8.5 8.5l.94-2.06 2.06-.94-2.06-.94L8.5 2.5l-.94 2.06-2.06.94zm10 10l.94 2.06.94-2.06 2.06-.94-2.06-.94-.94-2.06-.94 2.06-2.06.94z\"/><path d=\"M17.41 7.96l-1.37-1.37c-.4-.4-.92-.59-1.43-.59-.52 0-1.04.2-1.43.59L10.3 9.45l-7.72 7.72c-.78.78-.78 2.05 0 2.83L4 21.41c.39.39.9.59 1.41.59.51 0 1.02-.2 1.41-.59l7.78-7.78 2.81-2.81c.8-.78.8-2.07 0-2.86zM5.41 20L4 18.59l7.72-7.72 1.47 1.35L5.41 20z\"/>\n",
              "  </svg>\n",
              "      </button>\n",
              "      \n",
              "  <style>\n",
              "    .colab-df-container {\n",
              "      display:flex;\n",
              "      flex-wrap:wrap;\n",
              "      gap: 12px;\n",
              "    }\n",
              "\n",
              "    .colab-df-convert {\n",
              "      background-color: #E8F0FE;\n",
              "      border: none;\n",
              "      border-radius: 50%;\n",
              "      cursor: pointer;\n",
              "      display: none;\n",
              "      fill: #1967D2;\n",
              "      height: 32px;\n",
              "      padding: 0 0 0 0;\n",
              "      width: 32px;\n",
              "    }\n",
              "\n",
              "    .colab-df-convert:hover {\n",
              "      background-color: #E2EBFA;\n",
              "      box-shadow: 0px 1px 2px rgba(60, 64, 67, 0.3), 0px 1px 3px 1px rgba(60, 64, 67, 0.15);\n",
              "      fill: #174EA6;\n",
              "    }\n",
              "\n",
              "    [theme=dark] .colab-df-convert {\n",
              "      background-color: #3B4455;\n",
              "      fill: #D2E3FC;\n",
              "    }\n",
              "\n",
              "    [theme=dark] .colab-df-convert:hover {\n",
              "      background-color: #434B5C;\n",
              "      box-shadow: 0px 1px 3px 1px rgba(0, 0, 0, 0.15);\n",
              "      filter: drop-shadow(0px 1px 2px rgba(0, 0, 0, 0.3));\n",
              "      fill: #FFFFFF;\n",
              "    }\n",
              "  </style>\n",
              "\n",
              "      <script>\n",
              "        const buttonEl =\n",
              "          document.querySelector('#df-2804e2d5-26e3-41ad-ba6a-5e9dbbc391ff button.colab-df-convert');\n",
              "        buttonEl.style.display =\n",
              "          google.colab.kernel.accessAllowed ? 'block' : 'none';\n",
              "\n",
              "        async function convertToInteractive(key) {\n",
              "          const element = document.querySelector('#df-2804e2d5-26e3-41ad-ba6a-5e9dbbc391ff');\n",
              "          const dataTable =\n",
              "            await google.colab.kernel.invokeFunction('convertToInteractive',\n",
              "                                                     [key], {});\n",
              "          if (!dataTable) return;\n",
              "\n",
              "          const docLinkHtml = 'Like what you see? Visit the ' +\n",
              "            '<a target=\"_blank\" href=https://colab.research.google.com/notebooks/data_table.ipynb>data table notebook</a>'\n",
              "            + ' to learn more about interactive tables.';\n",
              "          element.innerHTML = '';\n",
              "          dataTable['output_type'] = 'display_data';\n",
              "          await google.colab.output.renderOutput(dataTable, element);\n",
              "          const docLink = document.createElement('div');\n",
              "          docLink.innerHTML = docLinkHtml;\n",
              "          element.appendChild(docLink);\n",
              "        }\n",
              "      </script>\n",
              "    </div>\n",
              "  </div>\n",
              "  "
            ]
          },
          "metadata": {},
          "execution_count": 150
        }
      ]
    },
    {
      "cell_type": "code",
      "source": [
        "#creating a new dataframe\n",
        "\n",
        "new_df2 = df2[(df2['Height'] <= 74.78) & (df2['Height'] >= 58.13)]\n",
        "new_df2"
      ],
      "metadata": {
        "colab": {
          "base_uri": "https://localhost:8080/",
          "height": 424
        },
        "id": "qa3_8wMDLqnm",
        "outputId": "e99f9e05-4bd8-48bf-893b-c88d36d6bfab"
      },
      "execution_count": 151,
      "outputs": [
        {
          "output_type": "execute_result",
          "data": {
            "text/plain": [
              "      Gender     Height      Weight\n",
              "0       Male  73.847017  241.893563\n",
              "1       Male  68.781904  162.310473\n",
              "2       Male  74.110105  212.740856\n",
              "3       Male  71.730978  220.042470\n",
              "4       Male  69.881796  206.349801\n",
              "...      ...        ...         ...\n",
              "9995  Female  66.172652  136.777454\n",
              "9996  Female  67.067155  170.867906\n",
              "9997  Female  63.867992  128.475319\n",
              "9998  Female  69.034243  163.852461\n",
              "9999  Female  61.944246  113.649103\n",
              "\n",
              "[9799 rows x 3 columns]"
            ],
            "text/html": [
              "\n",
              "  <div id=\"df-6fd0012d-c853-439f-95c9-c68bea97ff66\">\n",
              "    <div class=\"colab-df-container\">\n",
              "      <div>\n",
              "<style scoped>\n",
              "    .dataframe tbody tr th:only-of-type {\n",
              "        vertical-align: middle;\n",
              "    }\n",
              "\n",
              "    .dataframe tbody tr th {\n",
              "        vertical-align: top;\n",
              "    }\n",
              "\n",
              "    .dataframe thead th {\n",
              "        text-align: right;\n",
              "    }\n",
              "</style>\n",
              "<table border=\"1\" class=\"dataframe\">\n",
              "  <thead>\n",
              "    <tr style=\"text-align: right;\">\n",
              "      <th></th>\n",
              "      <th>Gender</th>\n",
              "      <th>Height</th>\n",
              "      <th>Weight</th>\n",
              "    </tr>\n",
              "  </thead>\n",
              "  <tbody>\n",
              "    <tr>\n",
              "      <th>0</th>\n",
              "      <td>Male</td>\n",
              "      <td>73.847017</td>\n",
              "      <td>241.893563</td>\n",
              "    </tr>\n",
              "    <tr>\n",
              "      <th>1</th>\n",
              "      <td>Male</td>\n",
              "      <td>68.781904</td>\n",
              "      <td>162.310473</td>\n",
              "    </tr>\n",
              "    <tr>\n",
              "      <th>2</th>\n",
              "      <td>Male</td>\n",
              "      <td>74.110105</td>\n",
              "      <td>212.740856</td>\n",
              "    </tr>\n",
              "    <tr>\n",
              "      <th>3</th>\n",
              "      <td>Male</td>\n",
              "      <td>71.730978</td>\n",
              "      <td>220.042470</td>\n",
              "    </tr>\n",
              "    <tr>\n",
              "      <th>4</th>\n",
              "      <td>Male</td>\n",
              "      <td>69.881796</td>\n",
              "      <td>206.349801</td>\n",
              "    </tr>\n",
              "    <tr>\n",
              "      <th>...</th>\n",
              "      <td>...</td>\n",
              "      <td>...</td>\n",
              "      <td>...</td>\n",
              "    </tr>\n",
              "    <tr>\n",
              "      <th>9995</th>\n",
              "      <td>Female</td>\n",
              "      <td>66.172652</td>\n",
              "      <td>136.777454</td>\n",
              "    </tr>\n",
              "    <tr>\n",
              "      <th>9996</th>\n",
              "      <td>Female</td>\n",
              "      <td>67.067155</td>\n",
              "      <td>170.867906</td>\n",
              "    </tr>\n",
              "    <tr>\n",
              "      <th>9997</th>\n",
              "      <td>Female</td>\n",
              "      <td>63.867992</td>\n",
              "      <td>128.475319</td>\n",
              "    </tr>\n",
              "    <tr>\n",
              "      <th>9998</th>\n",
              "      <td>Female</td>\n",
              "      <td>69.034243</td>\n",
              "      <td>163.852461</td>\n",
              "    </tr>\n",
              "    <tr>\n",
              "      <th>9999</th>\n",
              "      <td>Female</td>\n",
              "      <td>61.944246</td>\n",
              "      <td>113.649103</td>\n",
              "    </tr>\n",
              "  </tbody>\n",
              "</table>\n",
              "<p>9799 rows × 3 columns</p>\n",
              "</div>\n",
              "      <button class=\"colab-df-convert\" onclick=\"convertToInteractive('df-6fd0012d-c853-439f-95c9-c68bea97ff66')\"\n",
              "              title=\"Convert this dataframe to an interactive table.\"\n",
              "              style=\"display:none;\">\n",
              "        \n",
              "  <svg xmlns=\"http://www.w3.org/2000/svg\" height=\"24px\"viewBox=\"0 0 24 24\"\n",
              "       width=\"24px\">\n",
              "    <path d=\"M0 0h24v24H0V0z\" fill=\"none\"/>\n",
              "    <path d=\"M18.56 5.44l.94 2.06.94-2.06 2.06-.94-2.06-.94-.94-2.06-.94 2.06-2.06.94zm-11 1L8.5 8.5l.94-2.06 2.06-.94-2.06-.94L8.5 2.5l-.94 2.06-2.06.94zm10 10l.94 2.06.94-2.06 2.06-.94-2.06-.94-.94-2.06-.94 2.06-2.06.94z\"/><path d=\"M17.41 7.96l-1.37-1.37c-.4-.4-.92-.59-1.43-.59-.52 0-1.04.2-1.43.59L10.3 9.45l-7.72 7.72c-.78.78-.78 2.05 0 2.83L4 21.41c.39.39.9.59 1.41.59.51 0 1.02-.2 1.41-.59l7.78-7.78 2.81-2.81c.8-.78.8-2.07 0-2.86zM5.41 20L4 18.59l7.72-7.72 1.47 1.35L5.41 20z\"/>\n",
              "  </svg>\n",
              "      </button>\n",
              "      \n",
              "  <style>\n",
              "    .colab-df-container {\n",
              "      display:flex;\n",
              "      flex-wrap:wrap;\n",
              "      gap: 12px;\n",
              "    }\n",
              "\n",
              "    .colab-df-convert {\n",
              "      background-color: #E8F0FE;\n",
              "      border: none;\n",
              "      border-radius: 50%;\n",
              "      cursor: pointer;\n",
              "      display: none;\n",
              "      fill: #1967D2;\n",
              "      height: 32px;\n",
              "      padding: 0 0 0 0;\n",
              "      width: 32px;\n",
              "    }\n",
              "\n",
              "    .colab-df-convert:hover {\n",
              "      background-color: #E2EBFA;\n",
              "      box-shadow: 0px 1px 2px rgba(60, 64, 67, 0.3), 0px 1px 3px 1px rgba(60, 64, 67, 0.15);\n",
              "      fill: #174EA6;\n",
              "    }\n",
              "\n",
              "    [theme=dark] .colab-df-convert {\n",
              "      background-color: #3B4455;\n",
              "      fill: #D2E3FC;\n",
              "    }\n",
              "\n",
              "    [theme=dark] .colab-df-convert:hover {\n",
              "      background-color: #434B5C;\n",
              "      box-shadow: 0px 1px 3px 1px rgba(0, 0, 0, 0.15);\n",
              "      filter: drop-shadow(0px 1px 2px rgba(0, 0, 0, 0.3));\n",
              "      fill: #FFFFFF;\n",
              "    }\n",
              "  </style>\n",
              "\n",
              "      <script>\n",
              "        const buttonEl =\n",
              "          document.querySelector('#df-6fd0012d-c853-439f-95c9-c68bea97ff66 button.colab-df-convert');\n",
              "        buttonEl.style.display =\n",
              "          google.colab.kernel.accessAllowed ? 'block' : 'none';\n",
              "\n",
              "        async function convertToInteractive(key) {\n",
              "          const element = document.querySelector('#df-6fd0012d-c853-439f-95c9-c68bea97ff66');\n",
              "          const dataTable =\n",
              "            await google.colab.kernel.invokeFunction('convertToInteractive',\n",
              "                                                     [key], {});\n",
              "          if (!dataTable) return;\n",
              "\n",
              "          const docLinkHtml = 'Like what you see? Visit the ' +\n",
              "            '<a target=\"_blank\" href=https://colab.research.google.com/notebooks/data_table.ipynb>data table notebook</a>'\n",
              "            + ' to learn more about interactive tables.';\n",
              "          element.innerHTML = '';\n",
              "          dataTable['output_type'] = 'display_data';\n",
              "          await google.colab.output.renderOutput(dataTable, element);\n",
              "          const docLink = document.createElement('div');\n",
              "          docLink.innerHTML = docLinkHtml;\n",
              "          element.appendChild(docLink);\n",
              "        }\n",
              "      </script>\n",
              "    </div>\n",
              "  </div>\n",
              "  "
            ]
          },
          "metadata": {},
          "execution_count": 151
        }
      ]
    },
    {
      "cell_type": "markdown",
      "source": [
        "**Inference:** Outliers removed."
      ],
      "metadata": {
        "id": "LsvGx6mwMW9n"
      }
    },
    {
      "cell_type": "code",
      "source": [
        "new_df2['Height'].describe()"
      ],
      "metadata": {
        "colab": {
          "base_uri": "https://localhost:8080/"
        },
        "id": "4RmcspHYMCh0",
        "outputId": "a724e70f-43c1-4cdd-b2d8-552614de5244"
      },
      "execution_count": 152,
      "outputs": [
        {
          "output_type": "execute_result",
          "data": {
            "text/plain": [
              "count    9799.000000\n",
              "mean       66.363507\n",
              "std         3.644267\n",
              "min        58.134496\n",
              "25%        63.577147\n",
              "50%        66.317899\n",
              "75%        69.119859\n",
              "max        74.767447\n",
              "Name: Height, dtype: float64"
            ]
          },
          "metadata": {},
          "execution_count": 152
        }
      ]
    },
    {
      "cell_type": "code",
      "source": [
        "sns.distplot(new_df2['Height'])"
      ],
      "metadata": {
        "colab": {
          "base_uri": "https://localhost:8080/",
          "height": 296
        },
        "id": "_ZlojmqcMUFI",
        "outputId": "4aaea682-1eb1-44c3-f26c-1330bf57c559"
      },
      "execution_count": 153,
      "outputs": [
        {
          "output_type": "execute_result",
          "data": {
            "text/plain": [
              "<matplotlib.axes._subplots.AxesSubplot at 0x7fb11dfb0370>"
            ]
          },
          "metadata": {},
          "execution_count": 153
        },
        {
          "output_type": "display_data",
          "data": {
            "text/plain": [
              "<Figure size 432x288 with 1 Axes>"
            ],
            "image/png": "[encoded data removed]"
          },
          "metadata": {
            "needs_background": "light"
          }
        }
      ]
    },
    {
      "cell_type": "code",
      "source": [
        "sns.boxplot(new_df2['Height'])"
      ],
      "metadata": {
        "colab": {
          "base_uri": "https://localhost:8080/",
          "height": 296
        },
        "id": "hSuJumIYMk-E",
        "outputId": "338ec9c2-5633-4222-8260-356a13fa1b06"
      },
      "execution_count": 154,
      "outputs": [
        {
          "output_type": "execute_result",
          "data": {
            "text/plain": [
              "<matplotlib.axes._subplots.AxesSubplot at 0x7fb11e4d4910>"
            ]
          },
          "metadata": {},
          "execution_count": 154
        },
        {
          "output_type": "display_data",
          "data": {
            "text/plain": [
              "<Figure size 432x288 with 1 Axes>"
            ],
            "image/png": "[encoded data removed]"
          },
          "metadata": {
            "needs_background": "light"
          }
        }
      ]
    },
    {
      "cell_type": "code",
      "source": [
        "#Winsorization\n",
        "\n",
        "df2['Height'] = np.where(df2['Height'] >= upper_limit,\n",
        "         upper_limit,\n",
        "         np.where(df2['Height'] <= lower_limit,\n",
        "         lower_limit,\n",
        "         df2['Height']))"
      ],
      "metadata": {
        "id": "l_nyBtLjMuv7"
      },
      "execution_count": 155,
      "outputs": []
    },
    {
      "cell_type": "code",
      "source": [
        "df2.shape"
      ],
      "metadata": {
        "colab": {
          "base_uri": "https://localhost:8080/"
        },
        "id": "6N_DHduQNUAz",
        "outputId": "9592d388-6ac7-46f8-a7a8-8fca9f8da283"
      },
      "execution_count": 156,
      "outputs": [
        {
          "output_type": "execute_result",
          "data": {
            "text/plain": [
              "(10000, 3)"
            ]
          },
          "metadata": {},
          "execution_count": 156
        }
      ]
    },
    {
      "cell_type": "code",
      "source": [
        "sns.distplot(df2['Height'])"
      ],
      "metadata": {
        "colab": {
          "base_uri": "https://localhost:8080/",
          "height": 296
        },
        "id": "aTiNDFjONh9u",
        "outputId": "a0ec472b-db28-49a3-e482-c769bbaab0b9"
      },
      "execution_count": 157,
      "outputs": [
        {
          "output_type": "execute_result",
          "data": {
            "text/plain": [
              "<matplotlib.axes._subplots.AxesSubplot at 0x7fb11deb8790>"
            ]
          },
          "metadata": {},
          "execution_count": 157
        },
        {
          "output_type": "display_data",
          "data": {
            "text/plain": [
              "<Figure size 432x288 with 1 Axes>"
            ],
            "image/png": "[encoded data removed]"
          },
          "metadata": {
            "needs_background": "light"
          }
        }
      ]
    },
    {
      "cell_type": "code",
      "source": [
        "sns.boxplot(df2['Height'])"
      ],
      "metadata": {
        "colab": {
          "base_uri": "https://localhost:8080/",
          "height": 296
        },
        "id": "7j5pWCI8NoZL",
        "outputId": "e62f8d2d-f1ef-4cec-e73d-3c7404f54eaa"
      },
      "execution_count": 158,
      "outputs": [
        {
          "output_type": "execute_result",
          "data": {
            "text/plain": [
              "<matplotlib.axes._subplots.AxesSubplot at 0x7fb11de56fa0>"
            ]
          },
          "metadata": {},
          "execution_count": 158
        },
        {
          "output_type": "display_data",
          "data": {
            "text/plain": [
              "<Figure size 432x288 with 1 Axes>"
            ],
            "image/png": "[encoded data removed]"
          },
          "metadata": {
            "needs_background": "light"
          }
        }
      ]
    },
    {
      "cell_type": "code",
      "source": [],
      "metadata": {
        "id": "q5WmR-q0NwS_"
      },
      "execution_count": 158,
      "outputs": []
    }
  ]
}